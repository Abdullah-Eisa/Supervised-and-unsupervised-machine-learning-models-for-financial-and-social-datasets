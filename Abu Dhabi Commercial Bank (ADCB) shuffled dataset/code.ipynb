{
  "cells": [
    {
      "cell_type": "code",
      "execution_count": null,
      "metadata": {
        "id": "6Em6H1vHSqnv",
        "colab": {
          "base_uri": "https://localhost:8080/"
        },
        "outputId": "f0a55029-1070-465e-e6d6-b0cb82494062"
      },
      "outputs": [
        {
          "output_type": "stream",
          "name": "stderr",
          "text": [
            "/usr/local/lib/python3.7/dist-packages/statsmodels/tools/_testing.py:19: FutureWarning:\n",
            "\n",
            "pandas.util.testing is deprecated. Use the functions in the public API at pandas.testing instead.\n",
            "\n"
          ]
        }
      ],
      "source": [
        "import numpy as np\n",
        "from collections import Counter\n",
        "from scipy import stats\n",
        "from math import log2, sqrt\n",
        "import pandas as pd\n",
        "from sklearn.model_selection import train_test_split\n",
        "from sklearn.preprocessing import LabelEncoder\n",
        "from sklearn.tree import DecisionTreeClassifier\n",
        "from scipy import stats\n",
        "import seaborn as sns\n",
        "from sklearn import metrics\n",
        "from sklearn import tree\n",
        "from sklearn import preprocessing\n",
        "import matplotlib.pyplot as plt\n",
        "import six\n",
        "from sklearn.tree import export_graphviz\n",
        "from six import StringIO  \n",
        "from IPython.display import Image  \n",
        "import pydotplus\n",
        "from tqdm.notebook import tqdm_notebook as tqdm\n",
        "from sklearn.model_selection import GridSearchCV\n",
        "import plotly.express as px\n",
        "from sklearn.metrics import mean_squared_error\n",
        "from sklearn.linear_model import Ridge\n",
        "from sklearn.model_selection import GridSearchCV\n",
        "from sklearn.linear_model import ElasticNet\n",
        "from sklearn.model_selection import train_test_split, KFold, cross_val_score, GridSearchCV, LeaveOneOut\n",
        "from sklearn.neighbors import KNeighborsRegressor\n",
        "from sklearn.tree import DecisionTreeRegressor\n",
        "from sklearn.svm import SVR\n",
        "import scipy as sp\n",
        "import statsmodels.api as sm\n",
        "from sklearn import linear_model\n",
        "from sklearn.preprocessing import StandardScaler\n",
        "from sklearn.ensemble import RandomForestRegressor\n",
        "from sklearn.linear_model import LogisticRegression\n",
        "from sklearn.decomposition import PCA\n",
        "import xgboost\n",
        "from sklearn.model_selection import RepeatedKFold\n",
        "from sklearn.model_selection import cross_val_score\n",
        "from sklearn.ensemble import GradientBoostingRegressor\n",
        "from sklearn.ensemble import StackingRegressor\n",
        "from sklearn.svm import SVC\n",
        "from sklearn.naive_bayes import GaussianNB\n",
        "from sklearn.neighbors import KNeighborsClassifier\n",
        "from sklearn.tree import DecisionTreeClassifier\n",
        "from sklearn.metrics import accuracy_score\n",
        "from sklearn.metrics import average_precision_score \n",
        "from sklearn.ensemble import RandomForestClassifier\n",
        "from sklearn.ensemble import GradientBoostingClassifier\n",
        "import xgboost as xgb\n",
        "########################################\n",
        "from sklearn.cluster import KMeans\n"
      ]
    },
    {
      "cell_type": "markdown",
      "metadata": {
        "id": "Ye5liZx0A5pU"
      },
      "source": [
        "# Importing Data"
      ]
    },
    {
      "cell_type": "code",
      "execution_count": null,
      "metadata": {
        "id": "wl5nXHJtS_Pe"
      },
      "outputs": [],
      "source": [
        "# Importing the csv file\n",
        "#from google.colab import drive\n",
        "#drive.mount('/content/drive')"
      ]
    },
    {
      "cell_type": "code",
      "execution_count": null,
      "metadata": {
        "colab": {
          "base_uri": "https://localhost:8080/",
          "height": 423
        },
        "id": "HSEnbTnQIR_o",
        "outputId": "ce64a57a-ddbe-4402-813e-a5e4886257ce"
      },
      "outputs": [
        {
          "output_type": "execute_result",
          "data": {
            "text/html": [
              "\n",
              "  <div id=\"df-4c7be07c-8c9b-4f1a-aeb4-244f5c8dfaf4\">\n",
              "    <div class=\"colab-df-container\">\n",
              "      <div>\n",
              "<style scoped>\n",
              "    .dataframe tbody tr th:only-of-type {\n",
              "        vertical-align: middle;\n",
              "    }\n",
              "\n",
              "    .dataframe tbody tr th {\n",
              "        vertical-align: top;\n",
              "    }\n",
              "\n",
              "    .dataframe thead th {\n",
              "        text-align: right;\n",
              "    }\n",
              "</style>\n",
              "<table border=\"1\" class=\"dataframe\">\n",
              "  <thead>\n",
              "    <tr style=\"text-align: right;\">\n",
              "      <th></th>\n",
              "      <th>Total O/S</th>\n",
              "      <th>TENOR_@Booking</th>\n",
              "      <th>Loan Term</th>\n",
              "      <th>BOOKING_DATE</th>\n",
              "      <th>MATURITY_DATE</th>\n",
              "      <th>DPD</th>\n",
              "      <th>DOB</th>\n",
              "      <th>AGE</th>\n",
              "      <th>AGE at Maturity</th>\n",
              "      <th>GENDER</th>\n",
              "      <th>Customer Segment</th>\n",
              "    </tr>\n",
              "  </thead>\n",
              "  <tbody>\n",
              "    <tr>\n",
              "      <th>0</th>\n",
              "      <td>178,630</td>\n",
              "      <td>120</td>\n",
              "      <td>10 Years</td>\n",
              "      <td>7/31/2019</td>\n",
              "      <td>4/3/2029</td>\n",
              "      <td>0</td>\n",
              "      <td>6/23/1983</td>\n",
              "      <td>38.5</td>\n",
              "      <td>48.04</td>\n",
              "      <td>MALE</td>\n",
              "      <td>Salaried</td>\n",
              "    </tr>\n",
              "    <tr>\n",
              "      <th>1</th>\n",
              "      <td>376,445</td>\n",
              "      <td>120</td>\n",
              "      <td>10 Years</td>\n",
              "      <td>3/4/2019</td>\n",
              "      <td>7/3/2028</td>\n",
              "      <td>0</td>\n",
              "      <td>9/30/1963</td>\n",
              "      <td>58.2</td>\n",
              "      <td>67.12</td>\n",
              "      <td>MALE</td>\n",
              "      <td>Salaried</td>\n",
              "    </tr>\n",
              "    <tr>\n",
              "      <th>2</th>\n",
              "      <td>253,984</td>\n",
              "      <td>84</td>\n",
              "      <td>7 Years</td>\n",
              "      <td>5/5/2019</td>\n",
              "      <td>7/3/2025</td>\n",
              "      <td>0</td>\n",
              "      <td>2/24/1965</td>\n",
              "      <td>56.8</td>\n",
              "      <td>63.08</td>\n",
              "      <td>MALE</td>\n",
              "      <td>Salaried</td>\n",
              "    </tr>\n",
              "    <tr>\n",
              "      <th>3</th>\n",
              "      <td>779,620</td>\n",
              "      <td>108</td>\n",
              "      <td>9 Years</td>\n",
              "      <td>4/26/2021</td>\n",
              "      <td>4/25/2030</td>\n",
              "      <td>5</td>\n",
              "      <td>12/1/1983</td>\n",
              "      <td>38.0</td>\n",
              "      <td>46.10</td>\n",
              "      <td>MALE</td>\n",
              "      <td>Self Employed &amp; Professional</td>\n",
              "    </tr>\n",
              "    <tr>\n",
              "      <th>4</th>\n",
              "      <td>103,377</td>\n",
              "      <td>60</td>\n",
              "      <td>5 Years</td>\n",
              "      <td>4/27/2021</td>\n",
              "      <td>4/25/2026</td>\n",
              "      <td>0</td>\n",
              "      <td>8/8/1981</td>\n",
              "      <td>40.3</td>\n",
              "      <td>45.02</td>\n",
              "      <td>MALE</td>\n",
              "      <td>Salaried</td>\n",
              "    </tr>\n",
              "    <tr>\n",
              "      <th>...</th>\n",
              "      <td>...</td>\n",
              "      <td>...</td>\n",
              "      <td>...</td>\n",
              "      <td>...</td>\n",
              "      <td>...</td>\n",
              "      <td>...</td>\n",
              "      <td>...</td>\n",
              "      <td>...</td>\n",
              "      <td>...</td>\n",
              "      <td>...</td>\n",
              "      <td>...</td>\n",
              "    </tr>\n",
              "    <tr>\n",
              "      <th>38680</th>\n",
              "      <td>8</td>\n",
              "      <td>108</td>\n",
              "      <td>9 Years</td>\n",
              "      <td>2/28/2013</td>\n",
              "      <td>9/27/2021</td>\n",
              "      <td>6</td>\n",
              "      <td>10/25/1975</td>\n",
              "      <td>46.1</td>\n",
              "      <td>54.12</td>\n",
              "      <td>MALE</td>\n",
              "      <td>Salaried</td>\n",
              "    </tr>\n",
              "    <tr>\n",
              "      <th>38681</th>\n",
              "      <td>5</td>\n",
              "      <td>96</td>\n",
              "      <td>8 Years</td>\n",
              "      <td>3/4/2014</td>\n",
              "      <td>9/27/2021</td>\n",
              "      <td>6</td>\n",
              "      <td>5/3/1980</td>\n",
              "      <td>41.6</td>\n",
              "      <td>49.05</td>\n",
              "      <td>MALE</td>\n",
              "      <td>Salaried</td>\n",
              "    </tr>\n",
              "    <tr>\n",
              "      <th>38682</th>\n",
              "      <td>5</td>\n",
              "      <td>108</td>\n",
              "      <td>9 Years</td>\n",
              "      <td>2/21/2013</td>\n",
              "      <td>9/27/2021</td>\n",
              "      <td>6</td>\n",
              "      <td>7/19/1980</td>\n",
              "      <td>41.4</td>\n",
              "      <td>50.03</td>\n",
              "      <td>MALE</td>\n",
              "      <td>Salaried</td>\n",
              "    </tr>\n",
              "    <tr>\n",
              "      <th>38683</th>\n",
              "      <td>2</td>\n",
              "      <td>96</td>\n",
              "      <td>8 Years</td>\n",
              "      <td>2/25/2015</td>\n",
              "      <td>2/27/2023</td>\n",
              "      <td>584</td>\n",
              "      <td>1/3/1985</td>\n",
              "      <td>36.9</td>\n",
              "      <td>44.09</td>\n",
              "      <td>MALE</td>\n",
              "      <td>Salaried</td>\n",
              "    </tr>\n",
              "    <tr>\n",
              "      <th>38684</th>\n",
              "      <td>1</td>\n",
              "      <td>108</td>\n",
              "      <td>9 Years</td>\n",
              "      <td>10/23/2012</td>\n",
              "      <td>5/27/2021</td>\n",
              "      <td>136</td>\n",
              "      <td>1/22/1983</td>\n",
              "      <td>38.9</td>\n",
              "      <td>47.09</td>\n",
              "      <td>MALE</td>\n",
              "      <td>Salaried</td>\n",
              "    </tr>\n",
              "  </tbody>\n",
              "</table>\n",
              "<p>38685 rows × 11 columns</p>\n",
              "</div>\n",
              "      <button class=\"colab-df-convert\" onclick=\"convertToInteractive('df-4c7be07c-8c9b-4f1a-aeb4-244f5c8dfaf4')\"\n",
              "              title=\"Convert this dataframe to an interactive table.\"\n",
              "              style=\"display:none;\">\n",
              "        \n",
              "  <svg xmlns=\"http://www.w3.org/2000/svg\" height=\"24px\"viewBox=\"0 0 24 24\"\n",
              "       width=\"24px\">\n",
              "    <path d=\"M0 0h24v24H0V0z\" fill=\"none\"/>\n",
              "    <path d=\"M18.56 5.44l.94 2.06.94-2.06 2.06-.94-2.06-.94-.94-2.06-.94 2.06-2.06.94zm-11 1L8.5 8.5l.94-2.06 2.06-.94-2.06-.94L8.5 2.5l-.94 2.06-2.06.94zm10 10l.94 2.06.94-2.06 2.06-.94-2.06-.94-.94-2.06-.94 2.06-2.06.94z\"/><path d=\"M17.41 7.96l-1.37-1.37c-.4-.4-.92-.59-1.43-.59-.52 0-1.04.2-1.43.59L10.3 9.45l-7.72 7.72c-.78.78-.78 2.05 0 2.83L4 21.41c.39.39.9.59 1.41.59.51 0 1.02-.2 1.41-.59l7.78-7.78 2.81-2.81c.8-.78.8-2.07 0-2.86zM5.41 20L4 18.59l7.72-7.72 1.47 1.35L5.41 20z\"/>\n",
              "  </svg>\n",
              "      </button>\n",
              "      \n",
              "  <style>\n",
              "    .colab-df-container {\n",
              "      display:flex;\n",
              "      flex-wrap:wrap;\n",
              "      gap: 12px;\n",
              "    }\n",
              "\n",
              "    .colab-df-convert {\n",
              "      background-color: #E8F0FE;\n",
              "      border: none;\n",
              "      border-radius: 50%;\n",
              "      cursor: pointer;\n",
              "      display: none;\n",
              "      fill: #1967D2;\n",
              "      height: 32px;\n",
              "      padding: 0 0 0 0;\n",
              "      width: 32px;\n",
              "    }\n",
              "\n",
              "    .colab-df-convert:hover {\n",
              "      background-color: #E2EBFA;\n",
              "      box-shadow: 0px 1px 2px rgba(60, 64, 67, 0.3), 0px 1px 3px 1px rgba(60, 64, 67, 0.15);\n",
              "      fill: #174EA6;\n",
              "    }\n",
              "\n",
              "    [theme=dark] .colab-df-convert {\n",
              "      background-color: #3B4455;\n",
              "      fill: #D2E3FC;\n",
              "    }\n",
              "\n",
              "    [theme=dark] .colab-df-convert:hover {\n",
              "      background-color: #434B5C;\n",
              "      box-shadow: 0px 1px 3px 1px rgba(0, 0, 0, 0.15);\n",
              "      filter: drop-shadow(0px 1px 2px rgba(0, 0, 0, 0.3));\n",
              "      fill: #FFFFFF;\n",
              "    }\n",
              "  </style>\n",
              "\n",
              "      <script>\n",
              "        const buttonEl =\n",
              "          document.querySelector('#df-4c7be07c-8c9b-4f1a-aeb4-244f5c8dfaf4 button.colab-df-convert');\n",
              "        buttonEl.style.display =\n",
              "          google.colab.kernel.accessAllowed ? 'block' : 'none';\n",
              "\n",
              "        async function convertToInteractive(key) {\n",
              "          const element = document.querySelector('#df-4c7be07c-8c9b-4f1a-aeb4-244f5c8dfaf4');\n",
              "          const dataTable =\n",
              "            await google.colab.kernel.invokeFunction('convertToInteractive',\n",
              "                                                     [key], {});\n",
              "          if (!dataTable) return;\n",
              "\n",
              "          const docLinkHtml = 'Like what you see? Visit the ' +\n",
              "            '<a target=\"_blank\" href=https://colab.research.google.com/notebooks/data_table.ipynb>data table notebook</a>'\n",
              "            + ' to learn more about interactive tables.';\n",
              "          element.innerHTML = '';\n",
              "          dataTable['output_type'] = 'display_data';\n",
              "          await google.colab.output.renderOutput(dataTable, element);\n",
              "          const docLink = document.createElement('div');\n",
              "          docLink.innerHTML = docLinkHtml;\n",
              "          element.appendChild(docLink);\n",
              "        }\n",
              "      </script>\n",
              "    </div>\n",
              "  </div>\n",
              "  "
            ],
            "text/plain": [
              "       Total O/S  TENOR_@Booking  ... GENDER              Customer Segment\n",
              "0       178,630              120  ...   MALE                      Salaried\n",
              "1       376,445              120  ...   MALE                      Salaried\n",
              "2       253,984               84  ...   MALE                      Salaried\n",
              "3       779,620              108  ...   MALE  Self Employed & Professional\n",
              "4       103,377               60  ...   MALE                      Salaried\n",
              "...          ...             ...  ...    ...                           ...\n",
              "38680         8              108  ...   MALE                      Salaried\n",
              "38681         5               96  ...   MALE                      Salaried\n",
              "38682         5              108  ...   MALE                      Salaried\n",
              "38683         2               96  ...   MALE                      Salaried\n",
              "38684         1              108  ...   MALE                      Salaried\n",
              "\n",
              "[38685 rows x 11 columns]"
            ]
          },
          "metadata": {},
          "execution_count": 3
        }
      ],
      "source": [
        "#data = pd.read_excel(\"Dummy dataset.xlsx\", engine=\"openpyxl\")\n",
        "data = pd.read_csv(\"/content/Task2.csv\")\n",
        "original_data=data.copy(deep=True)\n",
        "data"
      ]
    },
    {
      "cell_type": "code",
      "source": [
        "#fig, ax = plt.subplots() # Create the figure and axes object\n",
        "\n",
        "# Plot the first x and y axes:\n",
        "ax=data.plot(x = 'Total O/S', y = ' DPD',figsize=(15,15))\n",
        "#ax.title('relation between Total O/S and DPD ')"
      ],
      "metadata": {
        "colab": {
          "base_uri": "https://localhost:8080/",
          "height": 877
        },
        "id": "RrxSpegr7OiF",
        "outputId": "5a0123d3-f575-4b87-a6cd-77636a073029"
      },
      "execution_count": null,
      "outputs": [
        {
          "output_type": "display_data",
          "data": {
            "image/png": "[encoded data removed]",
            "text/plain": [
              "<Figure size 1080x1080 with 1 Axes>"
            ]
          },
          "metadata": {
            "needs_background": "light"
          }
        }
      ]
    },
    {
      "cell_type": "code",
      "source": [
        ""
      ],
      "metadata": {
        "id": "KWdkyuD67Oen"
      },
      "execution_count": null,
      "outputs": []
    },
    {
      "cell_type": "code",
      "execution_count": null,
      "metadata": {
        "id": "GE1dGRMKSugP"
      },
      "outputs": [],
      "source": [
        "#data.dropna(inplace=True)\n"
      ]
    },
    {
      "cell_type": "markdown",
      "metadata": {
        "id": "21CdgHVPBCYa"
      },
      "source": [
        "# Feature Engineering"
      ]
    },
    {
      "cell_type": "code",
      "execution_count": null,
      "metadata": {
        "colab": {
          "base_uri": "https://localhost:8080/"
        },
        "id": "MRU90FG_S_S6",
        "outputId": "2e4f2dcc-4c42-45ba-dd09-a26fbee81954"
      },
      "outputs": [
        {
          "output_type": "execute_result",
          "data": {
            "text/plain": [
              "Total O/S            0\n",
              "TENOR_@Booking       0\n",
              "Loan Term            0\n",
              "BOOKING_DATE         0\n",
              "MATURITY_DATE        0\n",
              " DPD                 0\n",
              "DOB                  0\n",
              "AGE                  0\n",
              "AGE at Maturity     84\n",
              "GENDER               8\n",
              "Customer Segment    19\n",
              "dtype: int64"
            ]
          },
          "metadata": {},
          "execution_count": 6
        }
      ],
      "source": [
        "data.isna().sum()"
      ]
    },
    {
      "cell_type": "code",
      "execution_count": null,
      "metadata": {
        "id": "vvzC8WZzT2WM"
      },
      "outputs": [],
      "source": [
        "#data.drop_duplicates(inplace=True)"
      ]
    },
    {
      "cell_type": "code",
      "execution_count": null,
      "metadata": {
        "colab": {
          "base_uri": "https://localhost:8080/"
        },
        "id": "FIkKn7cdT_I8",
        "outputId": "cb9aa54f-d742-45bb-a38a-0a6242361aac"
      },
      "outputs": [
        {
          "output_type": "execute_result",
          "data": {
            "text/plain": [
              "823"
            ]
          },
          "metadata": {},
          "execution_count": 8
        }
      ],
      "source": [
        "data.duplicated().sum()"
      ]
    },
    {
      "cell_type": "code",
      "execution_count": null,
      "metadata": {
        "colab": {
          "base_uri": "https://localhost:8080/"
        },
        "id": "-NmhXbFHKvmJ",
        "outputId": "3478da70-e878-4c70-e9d8-fa234cef6a69"
      },
      "outputs": [
        {
          "output_type": "execute_result",
          "data": {
            "text/plain": [
              "5 Years               5674\n",
              "9 Years               5205\n",
              "More than 10 Years    4849\n",
              "8 Years               4781\n",
              "7 Years               4604\n",
              "6 Years               4444\n",
              "10 Years              4148\n",
              "3 Years               2104\n",
              "4 Years               2049\n",
              "2 Years                555\n",
              "1 Year                 272\n",
              "Name: Loan Term, dtype: int64"
            ]
          },
          "metadata": {},
          "execution_count": 9
        }
      ],
      "source": [
        "data['Loan Term'].value_counts()"
      ]
    },
    {
      "cell_type": "code",
      "execution_count": null,
      "metadata": {
        "colab": {
          "base_uri": "https://localhost:8080/"
        },
        "id": "kaHd2Z-EL8Bc",
        "outputId": "4fb49b15-3a59-4527-a6a1-b3d06fa5b025"
      },
      "outputs": [
        {
          "output_type": "execute_result",
          "data": {
            "text/plain": [
              "Salaried                        28588\n",
              "Self Employed & Professional    10078\n",
              "Name: Customer Segment, dtype: int64"
            ]
          },
          "metadata": {},
          "execution_count": 10
        }
      ],
      "source": [
        "data['Customer Segment'].value_counts()"
      ]
    },
    {
      "cell_type": "code",
      "execution_count": null,
      "metadata": {
        "colab": {
          "base_uri": "https://localhost:8080/"
        },
        "id": "WKiDbbVGLbbF",
        "outputId": "1011ad4b-59de-45b1-9bff-218ca3e04a47"
      },
      "outputs": [
        {
          "output_type": "execute_result",
          "data": {
            "text/plain": [
              "111"
            ]
          },
          "metadata": {},
          "execution_count": 11
        }
      ],
      "source": [
        "data.isna().sum().sum()"
      ]
    },
    {
      "cell_type": "code",
      "execution_count": null,
      "metadata": {
        "colab": {
          "base_uri": "https://localhost:8080/",
          "height": 1000
        },
        "id": "lh6vMQuFODuL",
        "outputId": "68075cf2-d413-4a2f-bb18-cab066c59c40"
      },
      "outputs": [
        {
          "output_type": "display_data",
          "data": {
            "text/plain": [
              "<Figure size 432x288 with 0 Axes>"
            ]
          },
          "metadata": {}
        },
        {
          "output_type": "display_data",
          "data": {
            "image/png": "[encoded data removed]",
            "text/plain": [
              "<Figure size 360x360 with 1 Axes>"
            ]
          },
          "metadata": {
            "needs_background": "light"
          }
        },
        {
          "output_type": "display_data",
          "data": {
            "text/plain": [
              "<Figure size 432x288 with 0 Axes>"
            ]
          },
          "metadata": {}
        },
        {
          "output_type": "display_data",
          "data": {
            "image/png": "[encoded data removed]",
            "text/plain": [
              "<Figure size 360x360 with 1 Axes>"
            ]
          },
          "metadata": {
            "needs_background": "light"
          }
        },
        {
          "output_type": "display_data",
          "data": {
            "text/plain": [
              "<Figure size 432x288 with 0 Axes>"
            ]
          },
          "metadata": {}
        },
        {
          "output_type": "display_data",
          "data": {
            "image/png": "[encoded data removed]",
            "text/plain": [
              "<Figure size 360x360 with 1 Axes>"
            ]
          },
          "metadata": {
            "needs_background": "light"
          }
        }
      ],
      "source": [
        "plt.rcParams.update({'figure.max_open_warning': 0})\n",
        "for column in ['TENOR_@Booking', ' DPD', 'AGE']:\n",
        "    plt.figure();             # <==================== here!\n",
        "    ax = sns.displot(data[column]);"
      ]
    },
    {
      "cell_type": "code",
      "execution_count": null,
      "metadata": {
        "id": "ai_UD-TkODic"
      },
      "outputs": [],
      "source": [
        "#X_train, X_test,y_train,y_test =train_test_split(X,y,test_size=0.20,random_state=70)\n"
      ]
    },
    {
      "cell_type": "code",
      "execution_count": null,
      "metadata": {
        "colab": {
          "base_uri": "https://localhost:8080/"
        },
        "id": "I0zsY8OZT1xd",
        "outputId": "fd75056a-d719-435d-cb8f-8ca46a7235f9"
      },
      "outputs": [
        {
          "output_type": "execute_result",
          "data": {
            "text/plain": [
              "823"
            ]
          },
          "metadata": {},
          "execution_count": 14
        }
      ],
      "source": [
        "data.duplicated().sum()"
      ]
    },
    {
      "cell_type": "code",
      "execution_count": null,
      "metadata": {
        "id": "NGqlE-m7T7nC"
      },
      "outputs": [],
      "source": [
        "#data = data.drop_duplicates(ignore_index=True)"
      ]
    },
    {
      "cell_type": "code",
      "execution_count": null,
      "metadata": {
        "colab": {
          "base_uri": "https://localhost:8080/"
        },
        "id": "7m1e9xcgTt1b",
        "outputId": "d0210790-d927-4a82-89b1-d8e577b9c29e"
      },
      "outputs": [
        {
          "output_type": "execute_result",
          "data": {
            "text/plain": [
              "Total O/S            0\n",
              "TENOR_@Booking       0\n",
              "Loan Term            0\n",
              "BOOKING_DATE         0\n",
              "MATURITY_DATE        0\n",
              " DPD                 0\n",
              "DOB                  0\n",
              "AGE                  0\n",
              "AGE at Maturity     84\n",
              "GENDER               8\n",
              "Customer Segment    19\n",
              "dtype: int64"
            ]
          },
          "metadata": {},
          "execution_count": 16
        }
      ],
      "source": [
        "data.isna().sum()"
      ]
    },
    {
      "cell_type": "code",
      "execution_count": null,
      "metadata": {
        "id": "xcUsbmOpUCRT"
      },
      "outputs": [],
      "source": [
        "#data = data.dropna()\n",
        "#data"
      ]
    },
    {
      "cell_type": "code",
      "execution_count": null,
      "metadata": {
        "id": "NS95sA_edpVa"
      },
      "outputs": [],
      "source": [
        "del data['BOOKING_DATE']\n",
        "del data['MATURITY_DATE']"
      ]
    },
    {
      "cell_type": "code",
      "execution_count": null,
      "metadata": {
        "colab": {
          "base_uri": "https://localhost:8080/"
        },
        "id": "u_Kxm1zYUhaL",
        "outputId": "44c035dd-4b5d-442b-b818-bda46687895a"
      },
      "outputs": [
        {
          "output_type": "execute_result",
          "data": {
            "text/plain": [
              "Total O/S           33954\n",
              "TENOR_@Booking         11\n",
              "Loan Term              11\n",
              " DPD                  278\n",
              "DOB                 11522\n",
              "AGE                   573\n",
              "AGE at Maturity       680\n",
              "GENDER                  4\n",
              "Customer Segment        2\n",
              "dtype: int64"
            ]
          },
          "metadata": {},
          "execution_count": 19
        }
      ],
      "source": [
        "data.nunique()"
      ]
    },
    {
      "cell_type": "code",
      "execution_count": null,
      "metadata": {
        "colab": {
          "base_uri": "https://localhost:8080/"
        },
        "id": "eDTwlxIYU4Ff",
        "outputId": "f53137b6-09b7-41b3-84a1-008f88b81f5c"
      },
      "outputs": [
        {
          "output_type": "execute_result",
          "data": {
            "text/plain": [
              "MALE      32410\n",
              "FEMALE     6259\n",
              "Male          7\n",
              "Female        1\n",
              "Name: GENDER, dtype: int64"
            ]
          },
          "metadata": {},
          "execution_count": 20
        }
      ],
      "source": [
        "data['GENDER'].value_counts().sort_values(ascending = False)"
      ]
    },
    {
      "cell_type": "code",
      "execution_count": null,
      "metadata": {
        "id": "1mYXK8KXWbQs"
      },
      "outputs": [],
      "source": [
        "data['GENDER'].replace({\"Male\": \"MALE\", \"Female\": \"FEMALE\"}, inplace=True)"
      ]
    },
    {
      "cell_type": "code",
      "execution_count": null,
      "metadata": {
        "colab": {
          "base_uri": "https://localhost:8080/"
        },
        "id": "Yir_Ji40V_Ii",
        "outputId": "4ebb2e7a-55cf-4a4d-eb11-e68e5bd06976"
      },
      "outputs": [
        {
          "output_type": "execute_result",
          "data": {
            "text/plain": [
              "Salaried                        28588\n",
              "Self Employed & Professional    10078\n",
              "Name: Customer Segment, dtype: int64"
            ]
          },
          "metadata": {},
          "execution_count": 22
        }
      ],
      "source": [
        "data['Customer Segment'].value_counts().sort_values(ascending = False)"
      ]
    },
    {
      "cell_type": "code",
      "execution_count": null,
      "metadata": {
        "colab": {
          "base_uri": "https://localhost:8080/"
        },
        "id": "BlYovB31epUF",
        "outputId": "dc0d7188-5238-4e58-dead-6f22ca6e161c"
      },
      "outputs": [
        {
          "output_type": "execute_result",
          "data": {
            "text/plain": [
              "5 Years               5674\n",
              "9 Years               5205\n",
              "More than 10 Years    4849\n",
              "8 Years               4781\n",
              "7 Years               4604\n",
              "6 Years               4444\n",
              "10 Years              4148\n",
              "3 Years               2104\n",
              "4 Years               2049\n",
              "2 Years                555\n",
              "1 Year                 272\n",
              "Name: Loan Term, dtype: int64"
            ]
          },
          "metadata": {},
          "execution_count": 23
        }
      ],
      "source": [
        "data['Loan Term'].value_counts().sort_values(ascending = False)"
      ]
    },
    {
      "cell_type": "code",
      "execution_count": null,
      "metadata": {
        "colab": {
          "base_uri": "https://localhost:8080/"
        },
        "id": "dJczAqCMPOI8",
        "outputId": "de522345-61b8-47e5-da3d-a4fd4f993243"
      },
      "outputs": [
        {
          "output_type": "execute_result",
          "data": {
            "text/plain": [
              "10/15/1974    94\n",
              "#VALUE!       84\n",
              "1/1/1984      72\n",
              "1/1/1985      64\n",
              "8/2/1973      48\n",
              "              ..\n",
              "11/7/1986      1\n",
              "12/27/1983     1\n",
              "11/18/1976     1\n",
              "5/27/1957      1\n",
              "6/3/1994       1\n",
              "Name: DOB, Length: 11522, dtype: int64"
            ]
          },
          "metadata": {},
          "execution_count": 24
        }
      ],
      "source": [
        "data['DOB'].value_counts().sort_values(ascending = False)"
      ]
    },
    {
      "cell_type": "code",
      "execution_count": null,
      "metadata": {
        "colab": {
          "base_uri": "https://localhost:8080/",
          "height": 35
        },
        "id": "N5y-ZqwiqRpO",
        "outputId": "c1c663d2-740a-4c1c-dc12-d64de1097ba4"
      },
      "outputs": [
        {
          "output_type": "execute_result",
          "data": {
            "application/vnd.google.colaboratory.intrinsic+json": {
              "type": "string"
            },
            "text/plain": [
              "'#VALUE!'"
            ]
          },
          "metadata": {},
          "execution_count": 25
        }
      ],
      "source": [
        "str(data['DOB'].iloc[112]).split('/')[0]"
      ]
    },
    {
      "cell_type": "code",
      "execution_count": null,
      "metadata": {
        "id": "vmKPwCu0pjjG"
      },
      "outputs": [],
      "source": [
        "#data = data.drop([112],axis=0)"
      ]
    },
    {
      "cell_type": "code",
      "execution_count": null,
      "metadata": {
        "colab": {
          "base_uri": "https://localhost:8080/",
          "height": 423
        },
        "id": "1Ay414IZKvrt",
        "outputId": "e7996b34-730d-4633-cdd3-c9f77b204b8c"
      },
      "outputs": [
        {
          "output_type": "execute_result",
          "data": {
            "text/html": [
              "\n",
              "  <div id=\"df-43aa0264-2d99-4507-9878-41d381cc5524\">\n",
              "    <div class=\"colab-df-container\">\n",
              "      <div>\n",
              "<style scoped>\n",
              "    .dataframe tbody tr th:only-of-type {\n",
              "        vertical-align: middle;\n",
              "    }\n",
              "\n",
              "    .dataframe tbody tr th {\n",
              "        vertical-align: top;\n",
              "    }\n",
              "\n",
              "    .dataframe thead th {\n",
              "        text-align: right;\n",
              "    }\n",
              "</style>\n",
              "<table border=\"1\" class=\"dataframe\">\n",
              "  <thead>\n",
              "    <tr style=\"text-align: right;\">\n",
              "      <th></th>\n",
              "      <th>Total O/S</th>\n",
              "      <th>TENOR_@Booking</th>\n",
              "      <th>Loan Term</th>\n",
              "      <th>DPD</th>\n",
              "      <th>DOB</th>\n",
              "      <th>AGE</th>\n",
              "      <th>AGE at Maturity</th>\n",
              "      <th>GENDER</th>\n",
              "      <th>Customer Segment</th>\n",
              "    </tr>\n",
              "  </thead>\n",
              "  <tbody>\n",
              "    <tr>\n",
              "      <th>0</th>\n",
              "      <td>178,630</td>\n",
              "      <td>120</td>\n",
              "      <td>10 Years</td>\n",
              "      <td>0</td>\n",
              "      <td>6/23/1983</td>\n",
              "      <td>38.5</td>\n",
              "      <td>48.04</td>\n",
              "      <td>MALE</td>\n",
              "      <td>Salaried</td>\n",
              "    </tr>\n",
              "    <tr>\n",
              "      <th>1</th>\n",
              "      <td>376,445</td>\n",
              "      <td>120</td>\n",
              "      <td>10 Years</td>\n",
              "      <td>0</td>\n",
              "      <td>9/30/1963</td>\n",
              "      <td>58.2</td>\n",
              "      <td>67.12</td>\n",
              "      <td>MALE</td>\n",
              "      <td>Salaried</td>\n",
              "    </tr>\n",
              "    <tr>\n",
              "      <th>2</th>\n",
              "      <td>253,984</td>\n",
              "      <td>84</td>\n",
              "      <td>7 Years</td>\n",
              "      <td>0</td>\n",
              "      <td>2/24/1965</td>\n",
              "      <td>56.8</td>\n",
              "      <td>63.08</td>\n",
              "      <td>MALE</td>\n",
              "      <td>Salaried</td>\n",
              "    </tr>\n",
              "    <tr>\n",
              "      <th>3</th>\n",
              "      <td>779,620</td>\n",
              "      <td>108</td>\n",
              "      <td>9 Years</td>\n",
              "      <td>5</td>\n",
              "      <td>12/1/1983</td>\n",
              "      <td>38.0</td>\n",
              "      <td>46.10</td>\n",
              "      <td>MALE</td>\n",
              "      <td>Self Employed &amp; Professional</td>\n",
              "    </tr>\n",
              "    <tr>\n",
              "      <th>4</th>\n",
              "      <td>103,377</td>\n",
              "      <td>60</td>\n",
              "      <td>5 Years</td>\n",
              "      <td>0</td>\n",
              "      <td>8/8/1981</td>\n",
              "      <td>40.3</td>\n",
              "      <td>45.02</td>\n",
              "      <td>MALE</td>\n",
              "      <td>Salaried</td>\n",
              "    </tr>\n",
              "    <tr>\n",
              "      <th>...</th>\n",
              "      <td>...</td>\n",
              "      <td>...</td>\n",
              "      <td>...</td>\n",
              "      <td>...</td>\n",
              "      <td>...</td>\n",
              "      <td>...</td>\n",
              "      <td>...</td>\n",
              "      <td>...</td>\n",
              "      <td>...</td>\n",
              "    </tr>\n",
              "    <tr>\n",
              "      <th>108</th>\n",
              "      <td>35,006</td>\n",
              "      <td>84</td>\n",
              "      <td>7 Years</td>\n",
              "      <td>0</td>\n",
              "      <td>2/27/1980</td>\n",
              "      <td>41.8</td>\n",
              "      <td>48.07</td>\n",
              "      <td>MALE</td>\n",
              "      <td>Salaried</td>\n",
              "    </tr>\n",
              "    <tr>\n",
              "      <th>109</th>\n",
              "      <td>41,802</td>\n",
              "      <td>60</td>\n",
              "      <td>5 Years</td>\n",
              "      <td>0</td>\n",
              "      <td>1/3/1979</td>\n",
              "      <td>42.9</td>\n",
              "      <td>47.09</td>\n",
              "      <td>MALE</td>\n",
              "      <td>Salaried</td>\n",
              "    </tr>\n",
              "    <tr>\n",
              "      <th>110</th>\n",
              "      <td>104,507</td>\n",
              "      <td>36</td>\n",
              "      <td>3 Years</td>\n",
              "      <td>15</td>\n",
              "      <td>2/17/1990</td>\n",
              "      <td>31.8</td>\n",
              "      <td>34.08</td>\n",
              "      <td>MALE</td>\n",
              "      <td>Self Employed &amp; Professional</td>\n",
              "    </tr>\n",
              "    <tr>\n",
              "      <th>111</th>\n",
              "      <td>53,000</td>\n",
              "      <td>120</td>\n",
              "      <td>10 Years</td>\n",
              "      <td>0</td>\n",
              "      <td>7/17/1991</td>\n",
              "      <td>30.4</td>\n",
              "      <td>40.03</td>\n",
              "      <td>MALE</td>\n",
              "      <td>Salaried</td>\n",
              "    </tr>\n",
              "    <tr>\n",
              "      <th>112</th>\n",
              "      <td>85,034</td>\n",
              "      <td>72</td>\n",
              "      <td>6 Years</td>\n",
              "      <td>0</td>\n",
              "      <td>#VALUE!</td>\n",
              "      <td>#VALUE!</td>\n",
              "      <td>NaN</td>\n",
              "      <td>FEMALE</td>\n",
              "      <td>Salaried</td>\n",
              "    </tr>\n",
              "  </tbody>\n",
              "</table>\n",
              "<p>113 rows × 9 columns</p>\n",
              "</div>\n",
              "      <button class=\"colab-df-convert\" onclick=\"convertToInteractive('df-43aa0264-2d99-4507-9878-41d381cc5524')\"\n",
              "              title=\"Convert this dataframe to an interactive table.\"\n",
              "              style=\"display:none;\">\n",
              "        \n",
              "  <svg xmlns=\"http://www.w3.org/2000/svg\" height=\"24px\"viewBox=\"0 0 24 24\"\n",
              "       width=\"24px\">\n",
              "    <path d=\"M0 0h24v24H0V0z\" fill=\"none\"/>\n",
              "    <path d=\"M18.56 5.44l.94 2.06.94-2.06 2.06-.94-2.06-.94-.94-2.06-.94 2.06-2.06.94zm-11 1L8.5 8.5l.94-2.06 2.06-.94-2.06-.94L8.5 2.5l-.94 2.06-2.06.94zm10 10l.94 2.06.94-2.06 2.06-.94-2.06-.94-.94-2.06-.94 2.06-2.06.94z\"/><path d=\"M17.41 7.96l-1.37-1.37c-.4-.4-.92-.59-1.43-.59-.52 0-1.04.2-1.43.59L10.3 9.45l-7.72 7.72c-.78.78-.78 2.05 0 2.83L4 21.41c.39.39.9.59 1.41.59.51 0 1.02-.2 1.41-.59l7.78-7.78 2.81-2.81c.8-.78.8-2.07 0-2.86zM5.41 20L4 18.59l7.72-7.72 1.47 1.35L5.41 20z\"/>\n",
              "  </svg>\n",
              "      </button>\n",
              "      \n",
              "  <style>\n",
              "    .colab-df-container {\n",
              "      display:flex;\n",
              "      flex-wrap:wrap;\n",
              "      gap: 12px;\n",
              "    }\n",
              "\n",
              "    .colab-df-convert {\n",
              "      background-color: #E8F0FE;\n",
              "      border: none;\n",
              "      border-radius: 50%;\n",
              "      cursor: pointer;\n",
              "      display: none;\n",
              "      fill: #1967D2;\n",
              "      height: 32px;\n",
              "      padding: 0 0 0 0;\n",
              "      width: 32px;\n",
              "    }\n",
              "\n",
              "    .colab-df-convert:hover {\n",
              "      background-color: #E2EBFA;\n",
              "      box-shadow: 0px 1px 2px rgba(60, 64, 67, 0.3), 0px 1px 3px 1px rgba(60, 64, 67, 0.15);\n",
              "      fill: #174EA6;\n",
              "    }\n",
              "\n",
              "    [theme=dark] .colab-df-convert {\n",
              "      background-color: #3B4455;\n",
              "      fill: #D2E3FC;\n",
              "    }\n",
              "\n",
              "    [theme=dark] .colab-df-convert:hover {\n",
              "      background-color: #434B5C;\n",
              "      box-shadow: 0px 1px 3px 1px rgba(0, 0, 0, 0.15);\n",
              "      filter: drop-shadow(0px 1px 2px rgba(0, 0, 0, 0.3));\n",
              "      fill: #FFFFFF;\n",
              "    }\n",
              "  </style>\n",
              "\n",
              "      <script>\n",
              "        const buttonEl =\n",
              "          document.querySelector('#df-43aa0264-2d99-4507-9878-41d381cc5524 button.colab-df-convert');\n",
              "        buttonEl.style.display =\n",
              "          google.colab.kernel.accessAllowed ? 'block' : 'none';\n",
              "\n",
              "        async function convertToInteractive(key) {\n",
              "          const element = document.querySelector('#df-43aa0264-2d99-4507-9878-41d381cc5524');\n",
              "          const dataTable =\n",
              "            await google.colab.kernel.invokeFunction('convertToInteractive',\n",
              "                                                     [key], {});\n",
              "          if (!dataTable) return;\n",
              "\n",
              "          const docLinkHtml = 'Like what you see? Visit the ' +\n",
              "            '<a target=\"_blank\" href=https://colab.research.google.com/notebooks/data_table.ipynb>data table notebook</a>'\n",
              "            + ' to learn more about interactive tables.';\n",
              "          element.innerHTML = '';\n",
              "          dataTable['output_type'] = 'display_data';\n",
              "          await google.colab.output.renderOutput(dataTable, element);\n",
              "          const docLink = document.createElement('div');\n",
              "          docLink.innerHTML = docLinkHtml;\n",
              "          element.appendChild(docLink);\n",
              "        }\n",
              "      </script>\n",
              "    </div>\n",
              "  </div>\n",
              "  "
            ],
            "text/plain": [
              "     Total O/S  TENOR_@Booking  ...  GENDER              Customer Segment\n",
              "0     178,630              120  ...    MALE                      Salaried\n",
              "1     376,445              120  ...    MALE                      Salaried\n",
              "2     253,984               84  ...    MALE                      Salaried\n",
              "3     779,620              108  ...    MALE  Self Employed & Professional\n",
              "4     103,377               60  ...    MALE                      Salaried\n",
              "..         ...             ...  ...     ...                           ...\n",
              "108    35,006               84  ...    MALE                      Salaried\n",
              "109    41,802               60  ...    MALE                      Salaried\n",
              "110   104,507               36  ...    MALE  Self Employed & Professional\n",
              "111    53,000              120  ...    MALE                      Salaried\n",
              "112    85,034               72  ...  FEMALE                      Salaried\n",
              "\n",
              "[113 rows x 9 columns]"
            ]
          },
          "metadata": {},
          "execution_count": 27
        }
      ],
      "source": [
        "data.head(113)"
      ]
    },
    {
      "cell_type": "code",
      "execution_count": null,
      "metadata": {
        "colab": {
          "base_uri": "https://localhost:8080/"
        },
        "id": "QPrRvnhGjhzX",
        "outputId": "a3558d3f-85bc-4ea8-bda0-5cc0408ad37f"
      },
      "outputs": [
        {
          "output_type": "stream",
          "name": "stderr",
          "text": [
            "/usr/local/lib/python3.7/dist-packages/ipykernel_launcher.py:3: SettingWithCopyWarning:\n",
            "\n",
            "\n",
            "A value is trying to be set on a copy of a slice from a DataFrame\n",
            "\n",
            "See the caveats in the documentation: https://pandas.pydata.org/pandas-docs/stable/user_guide/indexing.html#returning-a-view-versus-a-copy\n",
            "\n"
          ]
        }
      ],
      "source": [
        "for i in range(len(data)):\n",
        "  try:\n",
        "    data['DOB'][i] = str(data['DOB'][i]).split('/')[0]\n",
        "  except:\n",
        "    print(i)\n",
        "    #data = data.drop([i])"
      ]
    },
    {
      "cell_type": "code",
      "execution_count": null,
      "metadata": {
        "colab": {
          "base_uri": "https://localhost:8080/",
          "height": 423
        },
        "id": "-WkBbd2zNBod",
        "outputId": "cc08dfab-b4ac-481e-e7f8-d353bab862dc"
      },
      "outputs": [
        {
          "output_type": "execute_result",
          "data": {
            "text/html": [
              "\n",
              "  <div id=\"df-70e4283f-b279-41c8-beeb-817fd84a317c\">\n",
              "    <div class=\"colab-df-container\">\n",
              "      <div>\n",
              "<style scoped>\n",
              "    .dataframe tbody tr th:only-of-type {\n",
              "        vertical-align: middle;\n",
              "    }\n",
              "\n",
              "    .dataframe tbody tr th {\n",
              "        vertical-align: top;\n",
              "    }\n",
              "\n",
              "    .dataframe thead th {\n",
              "        text-align: right;\n",
              "    }\n",
              "</style>\n",
              "<table border=\"1\" class=\"dataframe\">\n",
              "  <thead>\n",
              "    <tr style=\"text-align: right;\">\n",
              "      <th></th>\n",
              "      <th>Total O/S</th>\n",
              "      <th>TENOR_@Booking</th>\n",
              "      <th>Loan Term</th>\n",
              "      <th>DPD</th>\n",
              "      <th>MOB</th>\n",
              "      <th>AGE</th>\n",
              "      <th>AGE at Maturity</th>\n",
              "      <th>GENDER</th>\n",
              "      <th>Customer Segment</th>\n",
              "    </tr>\n",
              "  </thead>\n",
              "  <tbody>\n",
              "    <tr>\n",
              "      <th>0</th>\n",
              "      <td>178,630</td>\n",
              "      <td>120</td>\n",
              "      <td>10 Years</td>\n",
              "      <td>0</td>\n",
              "      <td>6</td>\n",
              "      <td>38.5</td>\n",
              "      <td>48.04</td>\n",
              "      <td>MALE</td>\n",
              "      <td>Salaried</td>\n",
              "    </tr>\n",
              "    <tr>\n",
              "      <th>1</th>\n",
              "      <td>376,445</td>\n",
              "      <td>120</td>\n",
              "      <td>10 Years</td>\n",
              "      <td>0</td>\n",
              "      <td>9</td>\n",
              "      <td>58.2</td>\n",
              "      <td>67.12</td>\n",
              "      <td>MALE</td>\n",
              "      <td>Salaried</td>\n",
              "    </tr>\n",
              "    <tr>\n",
              "      <th>2</th>\n",
              "      <td>253,984</td>\n",
              "      <td>84</td>\n",
              "      <td>7 Years</td>\n",
              "      <td>0</td>\n",
              "      <td>2</td>\n",
              "      <td>56.8</td>\n",
              "      <td>63.08</td>\n",
              "      <td>MALE</td>\n",
              "      <td>Salaried</td>\n",
              "    </tr>\n",
              "    <tr>\n",
              "      <th>3</th>\n",
              "      <td>779,620</td>\n",
              "      <td>108</td>\n",
              "      <td>9 Years</td>\n",
              "      <td>5</td>\n",
              "      <td>12</td>\n",
              "      <td>38.0</td>\n",
              "      <td>46.10</td>\n",
              "      <td>MALE</td>\n",
              "      <td>Self Employed &amp; Professional</td>\n",
              "    </tr>\n",
              "    <tr>\n",
              "      <th>4</th>\n",
              "      <td>103,377</td>\n",
              "      <td>60</td>\n",
              "      <td>5 Years</td>\n",
              "      <td>0</td>\n",
              "      <td>8</td>\n",
              "      <td>40.3</td>\n",
              "      <td>45.02</td>\n",
              "      <td>MALE</td>\n",
              "      <td>Salaried</td>\n",
              "    </tr>\n",
              "    <tr>\n",
              "      <th>...</th>\n",
              "      <td>...</td>\n",
              "      <td>...</td>\n",
              "      <td>...</td>\n",
              "      <td>...</td>\n",
              "      <td>...</td>\n",
              "      <td>...</td>\n",
              "      <td>...</td>\n",
              "      <td>...</td>\n",
              "      <td>...</td>\n",
              "    </tr>\n",
              "    <tr>\n",
              "      <th>38680</th>\n",
              "      <td>8</td>\n",
              "      <td>108</td>\n",
              "      <td>9 Years</td>\n",
              "      <td>6</td>\n",
              "      <td>10</td>\n",
              "      <td>46.1</td>\n",
              "      <td>54.12</td>\n",
              "      <td>MALE</td>\n",
              "      <td>Salaried</td>\n",
              "    </tr>\n",
              "    <tr>\n",
              "      <th>38681</th>\n",
              "      <td>5</td>\n",
              "      <td>96</td>\n",
              "      <td>8 Years</td>\n",
              "      <td>6</td>\n",
              "      <td>5</td>\n",
              "      <td>41.6</td>\n",
              "      <td>49.05</td>\n",
              "      <td>MALE</td>\n",
              "      <td>Salaried</td>\n",
              "    </tr>\n",
              "    <tr>\n",
              "      <th>38682</th>\n",
              "      <td>5</td>\n",
              "      <td>108</td>\n",
              "      <td>9 Years</td>\n",
              "      <td>6</td>\n",
              "      <td>7</td>\n",
              "      <td>41.4</td>\n",
              "      <td>50.03</td>\n",
              "      <td>MALE</td>\n",
              "      <td>Salaried</td>\n",
              "    </tr>\n",
              "    <tr>\n",
              "      <th>38683</th>\n",
              "      <td>2</td>\n",
              "      <td>96</td>\n",
              "      <td>8 Years</td>\n",
              "      <td>584</td>\n",
              "      <td>1</td>\n",
              "      <td>36.9</td>\n",
              "      <td>44.09</td>\n",
              "      <td>MALE</td>\n",
              "      <td>Salaried</td>\n",
              "    </tr>\n",
              "    <tr>\n",
              "      <th>38684</th>\n",
              "      <td>1</td>\n",
              "      <td>108</td>\n",
              "      <td>9 Years</td>\n",
              "      <td>136</td>\n",
              "      <td>1</td>\n",
              "      <td>38.9</td>\n",
              "      <td>47.09</td>\n",
              "      <td>MALE</td>\n",
              "      <td>Salaried</td>\n",
              "    </tr>\n",
              "  </tbody>\n",
              "</table>\n",
              "<p>38685 rows × 9 columns</p>\n",
              "</div>\n",
              "      <button class=\"colab-df-convert\" onclick=\"convertToInteractive('df-70e4283f-b279-41c8-beeb-817fd84a317c')\"\n",
              "              title=\"Convert this dataframe to an interactive table.\"\n",
              "              style=\"display:none;\">\n",
              "        \n",
              "  <svg xmlns=\"http://www.w3.org/2000/svg\" height=\"24px\"viewBox=\"0 0 24 24\"\n",
              "       width=\"24px\">\n",
              "    <path d=\"M0 0h24v24H0V0z\" fill=\"none\"/>\n",
              "    <path d=\"M18.56 5.44l.94 2.06.94-2.06 2.06-.94-2.06-.94-.94-2.06-.94 2.06-2.06.94zm-11 1L8.5 8.5l.94-2.06 2.06-.94-2.06-.94L8.5 2.5l-.94 2.06-2.06.94zm10 10l.94 2.06.94-2.06 2.06-.94-2.06-.94-.94-2.06-.94 2.06-2.06.94z\"/><path d=\"M17.41 7.96l-1.37-1.37c-.4-.4-.92-.59-1.43-.59-.52 0-1.04.2-1.43.59L10.3 9.45l-7.72 7.72c-.78.78-.78 2.05 0 2.83L4 21.41c.39.39.9.59 1.41.59.51 0 1.02-.2 1.41-.59l7.78-7.78 2.81-2.81c.8-.78.8-2.07 0-2.86zM5.41 20L4 18.59l7.72-7.72 1.47 1.35L5.41 20z\"/>\n",
              "  </svg>\n",
              "      </button>\n",
              "      \n",
              "  <style>\n",
              "    .colab-df-container {\n",
              "      display:flex;\n",
              "      flex-wrap:wrap;\n",
              "      gap: 12px;\n",
              "    }\n",
              "\n",
              "    .colab-df-convert {\n",
              "      background-color: #E8F0FE;\n",
              "      border: none;\n",
              "      border-radius: 50%;\n",
              "      cursor: pointer;\n",
              "      display: none;\n",
              "      fill: #1967D2;\n",
              "      height: 32px;\n",
              "      padding: 0 0 0 0;\n",
              "      width: 32px;\n",
              "    }\n",
              "\n",
              "    .colab-df-convert:hover {\n",
              "      background-color: #E2EBFA;\n",
              "      box-shadow: 0px 1px 2px rgba(60, 64, 67, 0.3), 0px 1px 3px 1px rgba(60, 64, 67, 0.15);\n",
              "      fill: #174EA6;\n",
              "    }\n",
              "\n",
              "    [theme=dark] .colab-df-convert {\n",
              "      background-color: #3B4455;\n",
              "      fill: #D2E3FC;\n",
              "    }\n",
              "\n",
              "    [theme=dark] .colab-df-convert:hover {\n",
              "      background-color: #434B5C;\n",
              "      box-shadow: 0px 1px 3px 1px rgba(0, 0, 0, 0.15);\n",
              "      filter: drop-shadow(0px 1px 2px rgba(0, 0, 0, 0.3));\n",
              "      fill: #FFFFFF;\n",
              "    }\n",
              "  </style>\n",
              "\n",
              "      <script>\n",
              "        const buttonEl =\n",
              "          document.querySelector('#df-70e4283f-b279-41c8-beeb-817fd84a317c button.colab-df-convert');\n",
              "        buttonEl.style.display =\n",
              "          google.colab.kernel.accessAllowed ? 'block' : 'none';\n",
              "\n",
              "        async function convertToInteractive(key) {\n",
              "          const element = document.querySelector('#df-70e4283f-b279-41c8-beeb-817fd84a317c');\n",
              "          const dataTable =\n",
              "            await google.colab.kernel.invokeFunction('convertToInteractive',\n",
              "                                                     [key], {});\n",
              "          if (!dataTable) return;\n",
              "\n",
              "          const docLinkHtml = 'Like what you see? Visit the ' +\n",
              "            '<a target=\"_blank\" href=https://colab.research.google.com/notebooks/data_table.ipynb>data table notebook</a>'\n",
              "            + ' to learn more about interactive tables.';\n",
              "          element.innerHTML = '';\n",
              "          dataTable['output_type'] = 'display_data';\n",
              "          await google.colab.output.renderOutput(dataTable, element);\n",
              "          const docLink = document.createElement('div');\n",
              "          docLink.innerHTML = docLinkHtml;\n",
              "          element.appendChild(docLink);\n",
              "        }\n",
              "      </script>\n",
              "    </div>\n",
              "  </div>\n",
              "  "
            ],
            "text/plain": [
              "       Total O/S  TENOR_@Booking  ... GENDER              Customer Segment\n",
              "0       178,630              120  ...   MALE                      Salaried\n",
              "1       376,445              120  ...   MALE                      Salaried\n",
              "2       253,984               84  ...   MALE                      Salaried\n",
              "3       779,620              108  ...   MALE  Self Employed & Professional\n",
              "4       103,377               60  ...   MALE                      Salaried\n",
              "...          ...             ...  ...    ...                           ...\n",
              "38680         8              108  ...   MALE                      Salaried\n",
              "38681         5               96  ...   MALE                      Salaried\n",
              "38682         5              108  ...   MALE                      Salaried\n",
              "38683         2               96  ...   MALE                      Salaried\n",
              "38684         1              108  ...   MALE                      Salaried\n",
              "\n",
              "[38685 rows x 9 columns]"
            ]
          },
          "metadata": {},
          "execution_count": 29
        }
      ],
      "source": [
        "data = data.rename(columns={'DOB': 'MOB',' DPD':'DPD'})\n",
        "data"
      ]
    },
    {
      "cell_type": "code",
      "execution_count": null,
      "metadata": {
        "colab": {
          "base_uri": "https://localhost:8080/"
        },
        "id": "EnJrq2YjtWnC",
        "outputId": "b0e32059-ec2f-4ada-b4d8-d6f96f7a2db4"
      },
      "outputs": [
        {
          "output_type": "stream",
          "name": "stderr",
          "text": [
            "/usr/local/lib/python3.7/dist-packages/ipykernel_launcher.py:3: SettingWithCopyWarning:\n",
            "\n",
            "\n",
            "A value is trying to be set on a copy of a slice from a DataFrame\n",
            "\n",
            "See the caveats in the documentation: https://pandas.pydata.org/pandas-docs/stable/user_guide/indexing.html#returning-a-view-versus-a-copy\n",
            "\n"
          ]
        }
      ],
      "source": [
        "for i in range(len(data)):\n",
        "  try:\n",
        "    data['Total O/S'][i] = data['Total O/S'][i].replace(',', '')\n",
        "  except:\n",
        "    print(i)"
      ]
    },
    {
      "cell_type": "code",
      "execution_count": null,
      "metadata": {
        "id": "1uh2kXFgs5X2"
      },
      "outputs": [],
      "source": [
        "data['Total O/S'] = data['Total O/S'].astype(float)"
      ]
    },
    {
      "cell_type": "code",
      "execution_count": null,
      "metadata": {
        "colab": {
          "base_uri": "https://localhost:8080/"
        },
        "id": "Gn5ffKjQshIE",
        "outputId": "b014e79c-2483-4ddd-becc-3616b2a721ec"
      },
      "outputs": [
        {
          "output_type": "stream",
          "name": "stdout",
          "text": [
            "<class 'pandas.core.frame.DataFrame'>\n",
            "RangeIndex: 38685 entries, 0 to 38684\n",
            "Data columns (total 9 columns):\n",
            " #   Column            Non-Null Count  Dtype  \n",
            "---  ------            --------------  -----  \n",
            " 0   Total O/S         38685 non-null  float64\n",
            " 1   TENOR_@Booking    38685 non-null  int64  \n",
            " 2   Loan Term         38685 non-null  object \n",
            " 3   DPD               38685 non-null  int64  \n",
            " 4   MOB               38685 non-null  object \n",
            " 5   AGE               38685 non-null  object \n",
            " 6   AGE at Maturity   38601 non-null  object \n",
            " 7   GENDER            38677 non-null  object \n",
            " 8   Customer Segment  38666 non-null  object \n",
            "dtypes: float64(1), int64(2), object(6)\n",
            "memory usage: 2.7+ MB\n"
          ]
        }
      ],
      "source": [
        "data.info()"
      ]
    },
    {
      "cell_type": "code",
      "execution_count": null,
      "metadata": {
        "colab": {
          "base_uri": "https://localhost:8080/"
        },
        "id": "IQgEpZ2muY-q",
        "outputId": "79513b61-4940-4d13-e9c3-8ee5e1a332d7"
      },
      "outputs": [
        {
          "output_type": "execute_result",
          "data": {
            "text/plain": [
              "0      30464\n",
              "5       1250\n",
              "27       988\n",
              "3        980\n",
              "58       470\n",
              "13       465\n",
              "89       284\n",
              "15       251\n",
              "44       144\n",
              "119      136\n",
              "7        123\n",
              "4        110\n",
              "75       105\n",
              "6        101\n",
              "25        99\n",
              "34        94\n",
              "2         87\n",
              "150       82\n",
              "36        82\n",
              "10        72\n",
              "Name: DPD, dtype: int64"
            ]
          },
          "metadata": {},
          "execution_count": 33
        }
      ],
      "source": [
        "data['DPD'].value_counts().head(20)"
      ]
    },
    {
      "cell_type": "code",
      "execution_count": null,
      "metadata": {
        "colab": {
          "base_uri": "https://localhost:8080/"
        },
        "id": "YQkLepaKznjs",
        "outputId": "f316144b-5520-4ca3-c826-3f1f1a190f51"
      },
      "outputs": [
        {
          "output_type": "execute_result",
          "data": {
            "text/plain": [
              "2470"
            ]
          },
          "metadata": {},
          "execution_count": 34
        }
      ],
      "source": [
        "data['DPD'].max()"
      ]
    },
    {
      "cell_type": "code",
      "execution_count": null,
      "metadata": {
        "colab": {
          "base_uri": "https://localhost:8080/",
          "height": 327
        },
        "id": "EFN94boG0bc4",
        "outputId": "46946c1a-0cda-490f-f40d-e439d5b90660"
      },
      "outputs": [
        {
          "output_type": "execute_result",
          "data": {
            "text/plain": [
              "[Text(0.5, 0, 'number of days after loan deadline')]"
            ]
          },
          "metadata": {},
          "execution_count": 35
        },
        {
          "output_type": "display_data",
          "data": {
            "image/png": "[encoded data removed]",
            "text/plain": [
              "<Figure size 432x288 with 1 Axes>"
            ]
          },
          "metadata": {
            "needs_background": "light"
          }
        }
      ],
      "source": [
        "ax=sns.histplot(data,x='DPD')\n",
        "ax.set_title(\"Regularity of returning the loan \\n\")\n",
        "ax.set(xlabel=\"number of days after loan deadline\")"
      ]
    },
    {
      "cell_type": "code",
      "execution_count": null,
      "metadata": {
        "id": "UCz6hwJIomFq"
      },
      "outputs": [],
      "source": [
        "def len_df(df):\n",
        "    return len(df[df['MOB'] == '#VALUE!'])"
      ]
    },
    {
      "cell_type": "code",
      "execution_count": null,
      "metadata": {
        "id": "C-pf8xxrpSrE"
      },
      "outputs": [],
      "source": [
        "data['AGE'] = data['AGE'].replace(' ', '')"
      ]
    },
    {
      "cell_type": "code",
      "execution_count": null,
      "metadata": {
        "colab": {
          "base_uri": "https://localhost:8080/"
        },
        "id": "lgswsuOfmDG5",
        "outputId": "487ca15c-8d01-447c-c3fd-724d01b29227"
      },
      "outputs": [
        {
          "output_type": "execute_result",
          "data": {
            "text/plain": [
              "Total O/S            0\n",
              "TENOR_@Booking       0\n",
              "Loan Term            0\n",
              "DPD                  0\n",
              "MOB                  0\n",
              "AGE                  0\n",
              "AGE at Maturity     84\n",
              "GENDER               8\n",
              "Customer Segment    19\n",
              "dtype: int64"
            ]
          },
          "metadata": {},
          "execution_count": 38
        }
      ],
      "source": [
        "data.isna().sum()"
      ]
    },
    {
      "cell_type": "code",
      "execution_count": null,
      "metadata": {
        "id": "DS7D1bHjzXkq"
      },
      "outputs": [],
      "source": [
        "data = data.replace('#VALUE!', str(\"NaN\"))"
      ]
    },
    {
      "cell_type": "code",
      "execution_count": null,
      "metadata": {
        "id": "RLTE2TWOl1S0"
      },
      "outputs": [],
      "source": [
        "data['MOB']=data['MOB'].astype(float)"
      ]
    },
    {
      "cell_type": "code",
      "execution_count": null,
      "metadata": {
        "colab": {
          "base_uri": "https://localhost:8080/"
        },
        "id": "UabTz6oNj095",
        "outputId": "29e18535-f624-4016-ff14-b5576ac3f384"
      },
      "outputs": [
        {
          "output_type": "stream",
          "name": "stdout",
          "text": [
            "['3 to 6', '6 to 9', '1 to 3', '9 to 12', NaN]\n",
            "Categories (4, object): ['1 to 3' < '3 to 6' < '6 to 9' < '9 to 12']\n"
          ]
        }
      ],
      "source": [
        "data['Month_of_date'] = pd.cut(x=data['MOB'], bins=[0, 3, 6, 9,12],\n",
        "                    labels=['1 to 3', '3 to 6', '6 to 9','9 to 12'])\n",
        " \n",
        "# We can check the frequency of each bin\n",
        "print(data['Month_of_date'].unique())"
      ]
    },
    {
      "cell_type": "code",
      "execution_count": null,
      "metadata": {
        "colab": {
          "base_uri": "https://localhost:8080/"
        },
        "id": "U9HixjQVspvO",
        "outputId": "50bd8d9b-1ad3-421e-8cb0-3b35ec4e0641"
      },
      "outputs": [
        {
          "output_type": "stream",
          "name": "stderr",
          "text": [
            "/usr/local/lib/python3.7/dist-packages/ipykernel_launcher.py:3: SettingWithCopyWarning:\n",
            "\n",
            "\n",
            "A value is trying to be set on a copy of a slice from a DataFrame\n",
            "\n",
            "See the caveats in the documentation: https://pandas.pydata.org/pandas-docs/stable/user_guide/indexing.html#returning-a-view-versus-a-copy\n",
            "\n",
            "/usr/local/lib/python3.7/dist-packages/ipykernel_launcher.py:5: SettingWithCopyWarning:\n",
            "\n",
            "\n",
            "A value is trying to be set on a copy of a slice from a DataFrame\n",
            "\n",
            "See the caveats in the documentation: https://pandas.pydata.org/pandas-docs/stable/user_guide/indexing.html#returning-a-view-versus-a-copy\n",
            "\n"
          ]
        }
      ],
      "source": [
        "for i in range(len(data)):\n",
        "  if(\"(0.9)\" in data['AGE'][i]):\n",
        "    data['AGE'][i] = float(\"NaN\")\n",
        "  elif(\"(\" in data['AGE'][i]):\n",
        "    data['AGE'][i] = data['AGE'][i].split(\")\")[0].split(\"(\")[1]"
      ]
    },
    {
      "cell_type": "code",
      "execution_count": null,
      "metadata": {
        "colab": {
          "base_uri": "https://localhost:8080/"
        },
        "id": "AOslwdLY9jpK",
        "outputId": "61ade836-e96b-436b-b0cf-53a028b154de"
      },
      "outputs": [
        {
          "output_type": "stream",
          "name": "stderr",
          "text": [
            "/usr/local/lib/python3.7/dist-packages/ipykernel_launcher.py:3: SettingWithCopyWarning:\n",
            "\n",
            "\n",
            "A value is trying to be set on a copy of a slice from a DataFrame\n",
            "\n",
            "See the caveats in the documentation: https://pandas.pydata.org/pandas-docs/stable/user_guide/indexing.html#returning-a-view-versus-a-copy\n",
            "\n"
          ]
        }
      ],
      "source": [
        "for i in range(len(data)):\n",
        "  try:\n",
        "    data['AGE'][i] = float(data['AGE'][i])\n",
        "  except:\n",
        "    print(i)"
      ]
    },
    {
      "cell_type": "code",
      "execution_count": null,
      "metadata": {
        "colab": {
          "base_uri": "https://localhost:8080/"
        },
        "id": "5wGxh4Kv_7nQ",
        "outputId": "9de209f7-6a2e-4599-ed1a-3f1e07144c5a"
      },
      "outputs": [
        {
          "output_type": "execute_result",
          "data": {
            "text/plain": [
              "Total O/S            float64\n",
              "TENOR_@Booking         int64\n",
              "Loan Term             object\n",
              "DPD                    int64\n",
              "MOB                  float64\n",
              "AGE                   object\n",
              "AGE at Maturity       object\n",
              "GENDER                object\n",
              "Customer Segment      object\n",
              "Month_of_date       category\n",
              "dtype: object"
            ]
          },
          "metadata": {},
          "execution_count": 44
        }
      ],
      "source": [
        "data.dtypes"
      ]
    },
    {
      "cell_type": "code",
      "execution_count": null,
      "metadata": {
        "colab": {
          "base_uri": "https://localhost:8080/"
        },
        "id": "hHpUHXM_rHp7",
        "outputId": "d385fb63-7d5d-4dfe-c7bc-c182a1c84a15"
      },
      "outputs": [
        {
          "output_type": "stream",
          "name": "stdout",
          "text": [
            "['30 to 40', '50 to 60', '40 to 50', '20 to 30', '60 to 70', NaN, '10 to 20', '70 to 80']\n",
            "Categories (7, object): ['10 to 20' < '20 to 30' < '30 to 40' < '40 to 50' < '50 to 60' < '60 to 70' <\n",
            "                         '70 to 80']\n"
          ]
        }
      ],
      "source": [
        "data['Age'] = pd.cut(x=data['AGE'], bins=[10, 20, 30, 40,50,60,70,80],\n",
        "                    labels=['10 to 20', '20 to 30', '30 to 40','40 to 50','50 to 60','60 to 70','70 to 80'])\n",
        " \n",
        "# We can check the frequency of each bin\n",
        "print(data['Age'].unique())"
      ]
    },
    {
      "cell_type": "code",
      "execution_count": null,
      "metadata": {
        "colab": {
          "base_uri": "https://localhost:8080/",
          "height": 423
        },
        "id": "AWrpCdHtj05V",
        "outputId": "a2cd823a-71cd-41ea-aecb-63979fff262f"
      },
      "outputs": [
        {
          "output_type": "execute_result",
          "data": {
            "text/html": [
              "\n",
              "  <div id=\"df-ae6bc759-284a-40e0-98fe-ebe1d8044e5a\">\n",
              "    <div class=\"colab-df-container\">\n",
              "      <div>\n",
              "<style scoped>\n",
              "    .dataframe tbody tr th:only-of-type {\n",
              "        vertical-align: middle;\n",
              "    }\n",
              "\n",
              "    .dataframe tbody tr th {\n",
              "        vertical-align: top;\n",
              "    }\n",
              "\n",
              "    .dataframe thead th {\n",
              "        text-align: right;\n",
              "    }\n",
              "</style>\n",
              "<table border=\"1\" class=\"dataframe\">\n",
              "  <thead>\n",
              "    <tr style=\"text-align: right;\">\n",
              "      <th></th>\n",
              "      <th>Total O/S</th>\n",
              "      <th>TENOR_@Booking</th>\n",
              "      <th>Loan Term</th>\n",
              "      <th>DPD</th>\n",
              "      <th>MOB</th>\n",
              "      <th>AGE</th>\n",
              "      <th>AGE at Maturity</th>\n",
              "      <th>GENDER</th>\n",
              "      <th>Customer Segment</th>\n",
              "      <th>Month_of_date</th>\n",
              "      <th>Age</th>\n",
              "    </tr>\n",
              "  </thead>\n",
              "  <tbody>\n",
              "    <tr>\n",
              "      <th>0</th>\n",
              "      <td>178630.0</td>\n",
              "      <td>120</td>\n",
              "      <td>10 Years</td>\n",
              "      <td>0</td>\n",
              "      <td>6.0</td>\n",
              "      <td>38.5</td>\n",
              "      <td>48.04</td>\n",
              "      <td>MALE</td>\n",
              "      <td>Salaried</td>\n",
              "      <td>3 to 6</td>\n",
              "      <td>30 to 40</td>\n",
              "    </tr>\n",
              "    <tr>\n",
              "      <th>1</th>\n",
              "      <td>376445.0</td>\n",
              "      <td>120</td>\n",
              "      <td>10 Years</td>\n",
              "      <td>0</td>\n",
              "      <td>9.0</td>\n",
              "      <td>58.2</td>\n",
              "      <td>67.12</td>\n",
              "      <td>MALE</td>\n",
              "      <td>Salaried</td>\n",
              "      <td>6 to 9</td>\n",
              "      <td>50 to 60</td>\n",
              "    </tr>\n",
              "    <tr>\n",
              "      <th>2</th>\n",
              "      <td>253984.0</td>\n",
              "      <td>84</td>\n",
              "      <td>7 Years</td>\n",
              "      <td>0</td>\n",
              "      <td>2.0</td>\n",
              "      <td>56.8</td>\n",
              "      <td>63.08</td>\n",
              "      <td>MALE</td>\n",
              "      <td>Salaried</td>\n",
              "      <td>1 to 3</td>\n",
              "      <td>50 to 60</td>\n",
              "    </tr>\n",
              "    <tr>\n",
              "      <th>3</th>\n",
              "      <td>779620.0</td>\n",
              "      <td>108</td>\n",
              "      <td>9 Years</td>\n",
              "      <td>5</td>\n",
              "      <td>12.0</td>\n",
              "      <td>38</td>\n",
              "      <td>46.10</td>\n",
              "      <td>MALE</td>\n",
              "      <td>Self Employed &amp; Professional</td>\n",
              "      <td>9 to 12</td>\n",
              "      <td>30 to 40</td>\n",
              "    </tr>\n",
              "    <tr>\n",
              "      <th>4</th>\n",
              "      <td>103377.0</td>\n",
              "      <td>60</td>\n",
              "      <td>5 Years</td>\n",
              "      <td>0</td>\n",
              "      <td>8.0</td>\n",
              "      <td>40.3</td>\n",
              "      <td>45.02</td>\n",
              "      <td>MALE</td>\n",
              "      <td>Salaried</td>\n",
              "      <td>6 to 9</td>\n",
              "      <td>40 to 50</td>\n",
              "    </tr>\n",
              "    <tr>\n",
              "      <th>...</th>\n",
              "      <td>...</td>\n",
              "      <td>...</td>\n",
              "      <td>...</td>\n",
              "      <td>...</td>\n",
              "      <td>...</td>\n",
              "      <td>...</td>\n",
              "      <td>...</td>\n",
              "      <td>...</td>\n",
              "      <td>...</td>\n",
              "      <td>...</td>\n",
              "      <td>...</td>\n",
              "    </tr>\n",
              "    <tr>\n",
              "      <th>38680</th>\n",
              "      <td>8.0</td>\n",
              "      <td>108</td>\n",
              "      <td>9 Years</td>\n",
              "      <td>6</td>\n",
              "      <td>10.0</td>\n",
              "      <td>46.1</td>\n",
              "      <td>54.12</td>\n",
              "      <td>MALE</td>\n",
              "      <td>Salaried</td>\n",
              "      <td>9 to 12</td>\n",
              "      <td>40 to 50</td>\n",
              "    </tr>\n",
              "    <tr>\n",
              "      <th>38681</th>\n",
              "      <td>5.0</td>\n",
              "      <td>96</td>\n",
              "      <td>8 Years</td>\n",
              "      <td>6</td>\n",
              "      <td>5.0</td>\n",
              "      <td>41.6</td>\n",
              "      <td>49.05</td>\n",
              "      <td>MALE</td>\n",
              "      <td>Salaried</td>\n",
              "      <td>3 to 6</td>\n",
              "      <td>40 to 50</td>\n",
              "    </tr>\n",
              "    <tr>\n",
              "      <th>38682</th>\n",
              "      <td>5.0</td>\n",
              "      <td>108</td>\n",
              "      <td>9 Years</td>\n",
              "      <td>6</td>\n",
              "      <td>7.0</td>\n",
              "      <td>41.4</td>\n",
              "      <td>50.03</td>\n",
              "      <td>MALE</td>\n",
              "      <td>Salaried</td>\n",
              "      <td>6 to 9</td>\n",
              "      <td>40 to 50</td>\n",
              "    </tr>\n",
              "    <tr>\n",
              "      <th>38683</th>\n",
              "      <td>2.0</td>\n",
              "      <td>96</td>\n",
              "      <td>8 Years</td>\n",
              "      <td>584</td>\n",
              "      <td>1.0</td>\n",
              "      <td>36.9</td>\n",
              "      <td>44.09</td>\n",
              "      <td>MALE</td>\n",
              "      <td>Salaried</td>\n",
              "      <td>1 to 3</td>\n",
              "      <td>30 to 40</td>\n",
              "    </tr>\n",
              "    <tr>\n",
              "      <th>38684</th>\n",
              "      <td>1.0</td>\n",
              "      <td>108</td>\n",
              "      <td>9 Years</td>\n",
              "      <td>136</td>\n",
              "      <td>1.0</td>\n",
              "      <td>38.9</td>\n",
              "      <td>47.09</td>\n",
              "      <td>MALE</td>\n",
              "      <td>Salaried</td>\n",
              "      <td>1 to 3</td>\n",
              "      <td>30 to 40</td>\n",
              "    </tr>\n",
              "  </tbody>\n",
              "</table>\n",
              "<p>38685 rows × 11 columns</p>\n",
              "</div>\n",
              "      <button class=\"colab-df-convert\" onclick=\"convertToInteractive('df-ae6bc759-284a-40e0-98fe-ebe1d8044e5a')\"\n",
              "              title=\"Convert this dataframe to an interactive table.\"\n",
              "              style=\"display:none;\">\n",
              "        \n",
              "  <svg xmlns=\"http://www.w3.org/2000/svg\" height=\"24px\"viewBox=\"0 0 24 24\"\n",
              "       width=\"24px\">\n",
              "    <path d=\"M0 0h24v24H0V0z\" fill=\"none\"/>\n",
              "    <path d=\"M18.56 5.44l.94 2.06.94-2.06 2.06-.94-2.06-.94-.94-2.06-.94 2.06-2.06.94zm-11 1L8.5 8.5l.94-2.06 2.06-.94-2.06-.94L8.5 2.5l-.94 2.06-2.06.94zm10 10l.94 2.06.94-2.06 2.06-.94-2.06-.94-.94-2.06-.94 2.06-2.06.94z\"/><path d=\"M17.41 7.96l-1.37-1.37c-.4-.4-.92-.59-1.43-.59-.52 0-1.04.2-1.43.59L10.3 9.45l-7.72 7.72c-.78.78-.78 2.05 0 2.83L4 21.41c.39.39.9.59 1.41.59.51 0 1.02-.2 1.41-.59l7.78-7.78 2.81-2.81c.8-.78.8-2.07 0-2.86zM5.41 20L4 18.59l7.72-7.72 1.47 1.35L5.41 20z\"/>\n",
              "  </svg>\n",
              "      </button>\n",
              "      \n",
              "  <style>\n",
              "    .colab-df-container {\n",
              "      display:flex;\n",
              "      flex-wrap:wrap;\n",
              "      gap: 12px;\n",
              "    }\n",
              "\n",
              "    .colab-df-convert {\n",
              "      background-color: #E8F0FE;\n",
              "      border: none;\n",
              "      border-radius: 50%;\n",
              "      cursor: pointer;\n",
              "      display: none;\n",
              "      fill: #1967D2;\n",
              "      height: 32px;\n",
              "      padding: 0 0 0 0;\n",
              "      width: 32px;\n",
              "    }\n",
              "\n",
              "    .colab-df-convert:hover {\n",
              "      background-color: #E2EBFA;\n",
              "      box-shadow: 0px 1px 2px rgba(60, 64, 67, 0.3), 0px 1px 3px 1px rgba(60, 64, 67, 0.15);\n",
              "      fill: #174EA6;\n",
              "    }\n",
              "\n",
              "    [theme=dark] .colab-df-convert {\n",
              "      background-color: #3B4455;\n",
              "      fill: #D2E3FC;\n",
              "    }\n",
              "\n",
              "    [theme=dark] .colab-df-convert:hover {\n",
              "      background-color: #434B5C;\n",
              "      box-shadow: 0px 1px 3px 1px rgba(0, 0, 0, 0.15);\n",
              "      filter: drop-shadow(0px 1px 2px rgba(0, 0, 0, 0.3));\n",
              "      fill: #FFFFFF;\n",
              "    }\n",
              "  </style>\n",
              "\n",
              "      <script>\n",
              "        const buttonEl =\n",
              "          document.querySelector('#df-ae6bc759-284a-40e0-98fe-ebe1d8044e5a button.colab-df-convert');\n",
              "        buttonEl.style.display =\n",
              "          google.colab.kernel.accessAllowed ? 'block' : 'none';\n",
              "\n",
              "        async function convertToInteractive(key) {\n",
              "          const element = document.querySelector('#df-ae6bc759-284a-40e0-98fe-ebe1d8044e5a');\n",
              "          const dataTable =\n",
              "            await google.colab.kernel.invokeFunction('convertToInteractive',\n",
              "                                                     [key], {});\n",
              "          if (!dataTable) return;\n",
              "\n",
              "          const docLinkHtml = 'Like what you see? Visit the ' +\n",
              "            '<a target=\"_blank\" href=https://colab.research.google.com/notebooks/data_table.ipynb>data table notebook</a>'\n",
              "            + ' to learn more about interactive tables.';\n",
              "          element.innerHTML = '';\n",
              "          dataTable['output_type'] = 'display_data';\n",
              "          await google.colab.output.renderOutput(dataTable, element);\n",
              "          const docLink = document.createElement('div');\n",
              "          docLink.innerHTML = docLinkHtml;\n",
              "          element.appendChild(docLink);\n",
              "        }\n",
              "      </script>\n",
              "    </div>\n",
              "  </div>\n",
              "  "
            ],
            "text/plain": [
              "       Total O/S  TENOR_@Booking  ... Month_of_date       Age\n",
              "0       178630.0             120  ...        3 to 6  30 to 40\n",
              "1       376445.0             120  ...        6 to 9  50 to 60\n",
              "2       253984.0              84  ...        1 to 3  50 to 60\n",
              "3       779620.0             108  ...       9 to 12  30 to 40\n",
              "4       103377.0              60  ...        6 to 9  40 to 50\n",
              "...          ...             ...  ...           ...       ...\n",
              "38680        8.0             108  ...       9 to 12  40 to 50\n",
              "38681        5.0              96  ...        3 to 6  40 to 50\n",
              "38682        5.0             108  ...        6 to 9  40 to 50\n",
              "38683        2.0              96  ...        1 to 3  30 to 40\n",
              "38684        1.0             108  ...        1 to 3  30 to 40\n",
              "\n",
              "[38685 rows x 11 columns]"
            ]
          },
          "metadata": {},
          "execution_count": 46
        }
      ],
      "source": [
        "data"
      ]
    },
    {
      "cell_type": "code",
      "execution_count": null,
      "metadata": {
        "id": "orFYcU9PF3cV"
      },
      "outputs": [],
      "source": [
        "dff=data.copy(deep=True)"
      ]
    },
    {
      "cell_type": "code",
      "execution_count": null,
      "metadata": {
        "colab": {
          "base_uri": "https://localhost:8080/"
        },
        "id": "GWC7KWSnHv5Y",
        "outputId": "743c35dc-3971-45e2-95b4-f131100ff099"
      },
      "outputs": [
        {
          "output_type": "stream",
          "name": "stdout",
          "text": [
            "['On Time', 'within 1 month', 'within 3 months', 'within 2 months', 'more than 4 months', 'within 4 months']\n",
            "Categories (6, object): ['On Time' < 'within 1 month' < 'within 2 months' < 'within 3 months' <\n",
            "                         'within 4 months' < 'more than 4 months']\n"
          ]
        }
      ],
      "source": [
        "data['Dpd'] = pd.cut(x=data['DPD'], bins=[-1, 0, 30, 60,90,120,3000],\n",
        "                    labels=['On Time', 'within 1 month', 'within 2 months','within 3 months','within 4 months','more than 4 months'])\n",
        " \n",
        "# We can check the frequency of each bin\n",
        "print(data['Dpd'].unique())"
      ]
    },
    {
      "cell_type": "code",
      "execution_count": null,
      "metadata": {
        "id": "Nso8Cpvgj01N"
      },
      "outputs": [],
      "source": [
        "del data['AGE']\n",
        "del data['AGE at Maturity']\n",
        "del data['MOB']\n",
        "del data['DPD']\n",
        "del data['TENOR_@Booking']"
      ]
    },
    {
      "cell_type": "code",
      "execution_count": null,
      "metadata": {
        "colab": {
          "base_uri": "https://localhost:8080/",
          "height": 423
        },
        "id": "eCdoyKLxBy2V",
        "outputId": "521dc33c-a35d-40b6-f8e5-75fa83ae74c8"
      },
      "outputs": [
        {
          "output_type": "execute_result",
          "data": {
            "text/html": [
              "\n",
              "  <div id=\"df-07917476-0f5d-4094-80da-f109e408f2a4\">\n",
              "    <div class=\"colab-df-container\">\n",
              "      <div>\n",
              "<style scoped>\n",
              "    .dataframe tbody tr th:only-of-type {\n",
              "        vertical-align: middle;\n",
              "    }\n",
              "\n",
              "    .dataframe tbody tr th {\n",
              "        vertical-align: top;\n",
              "    }\n",
              "\n",
              "    .dataframe thead th {\n",
              "        text-align: right;\n",
              "    }\n",
              "</style>\n",
              "<table border=\"1\" class=\"dataframe\">\n",
              "  <thead>\n",
              "    <tr style=\"text-align: right;\">\n",
              "      <th></th>\n",
              "      <th>Total O/S</th>\n",
              "      <th>Loan Term</th>\n",
              "      <th>GENDER</th>\n",
              "      <th>Customer Segment</th>\n",
              "      <th>Month_of_date</th>\n",
              "      <th>Age</th>\n",
              "      <th>Dpd</th>\n",
              "    </tr>\n",
              "  </thead>\n",
              "  <tbody>\n",
              "    <tr>\n",
              "      <th>0</th>\n",
              "      <td>178630.0</td>\n",
              "      <td>10 Years</td>\n",
              "      <td>MALE</td>\n",
              "      <td>Salaried</td>\n",
              "      <td>3 to 6</td>\n",
              "      <td>30 to 40</td>\n",
              "      <td>On Time</td>\n",
              "    </tr>\n",
              "    <tr>\n",
              "      <th>1</th>\n",
              "      <td>376445.0</td>\n",
              "      <td>10 Years</td>\n",
              "      <td>MALE</td>\n",
              "      <td>Salaried</td>\n",
              "      <td>6 to 9</td>\n",
              "      <td>50 to 60</td>\n",
              "      <td>On Time</td>\n",
              "    </tr>\n",
              "    <tr>\n",
              "      <th>2</th>\n",
              "      <td>253984.0</td>\n",
              "      <td>7 Years</td>\n",
              "      <td>MALE</td>\n",
              "      <td>Salaried</td>\n",
              "      <td>1 to 3</td>\n",
              "      <td>50 to 60</td>\n",
              "      <td>On Time</td>\n",
              "    </tr>\n",
              "    <tr>\n",
              "      <th>3</th>\n",
              "      <td>779620.0</td>\n",
              "      <td>9 Years</td>\n",
              "      <td>MALE</td>\n",
              "      <td>Self Employed &amp; Professional</td>\n",
              "      <td>9 to 12</td>\n",
              "      <td>30 to 40</td>\n",
              "      <td>within 1 month</td>\n",
              "    </tr>\n",
              "    <tr>\n",
              "      <th>4</th>\n",
              "      <td>103377.0</td>\n",
              "      <td>5 Years</td>\n",
              "      <td>MALE</td>\n",
              "      <td>Salaried</td>\n",
              "      <td>6 to 9</td>\n",
              "      <td>40 to 50</td>\n",
              "      <td>On Time</td>\n",
              "    </tr>\n",
              "    <tr>\n",
              "      <th>...</th>\n",
              "      <td>...</td>\n",
              "      <td>...</td>\n",
              "      <td>...</td>\n",
              "      <td>...</td>\n",
              "      <td>...</td>\n",
              "      <td>...</td>\n",
              "      <td>...</td>\n",
              "    </tr>\n",
              "    <tr>\n",
              "      <th>38680</th>\n",
              "      <td>8.0</td>\n",
              "      <td>9 Years</td>\n",
              "      <td>MALE</td>\n",
              "      <td>Salaried</td>\n",
              "      <td>9 to 12</td>\n",
              "      <td>40 to 50</td>\n",
              "      <td>within 1 month</td>\n",
              "    </tr>\n",
              "    <tr>\n",
              "      <th>38681</th>\n",
              "      <td>5.0</td>\n",
              "      <td>8 Years</td>\n",
              "      <td>MALE</td>\n",
              "      <td>Salaried</td>\n",
              "      <td>3 to 6</td>\n",
              "      <td>40 to 50</td>\n",
              "      <td>within 1 month</td>\n",
              "    </tr>\n",
              "    <tr>\n",
              "      <th>38682</th>\n",
              "      <td>5.0</td>\n",
              "      <td>9 Years</td>\n",
              "      <td>MALE</td>\n",
              "      <td>Salaried</td>\n",
              "      <td>6 to 9</td>\n",
              "      <td>40 to 50</td>\n",
              "      <td>within 1 month</td>\n",
              "    </tr>\n",
              "    <tr>\n",
              "      <th>38683</th>\n",
              "      <td>2.0</td>\n",
              "      <td>8 Years</td>\n",
              "      <td>MALE</td>\n",
              "      <td>Salaried</td>\n",
              "      <td>1 to 3</td>\n",
              "      <td>30 to 40</td>\n",
              "      <td>more than 4 months</td>\n",
              "    </tr>\n",
              "    <tr>\n",
              "      <th>38684</th>\n",
              "      <td>1.0</td>\n",
              "      <td>9 Years</td>\n",
              "      <td>MALE</td>\n",
              "      <td>Salaried</td>\n",
              "      <td>1 to 3</td>\n",
              "      <td>30 to 40</td>\n",
              "      <td>more than 4 months</td>\n",
              "    </tr>\n",
              "  </tbody>\n",
              "</table>\n",
              "<p>38685 rows × 7 columns</p>\n",
              "</div>\n",
              "      <button class=\"colab-df-convert\" onclick=\"convertToInteractive('df-07917476-0f5d-4094-80da-f109e408f2a4')\"\n",
              "              title=\"Convert this dataframe to an interactive table.\"\n",
              "              style=\"display:none;\">\n",
              "        \n",
              "  <svg xmlns=\"http://www.w3.org/2000/svg\" height=\"24px\"viewBox=\"0 0 24 24\"\n",
              "       width=\"24px\">\n",
              "    <path d=\"M0 0h24v24H0V0z\" fill=\"none\"/>\n",
              "    <path d=\"M18.56 5.44l.94 2.06.94-2.06 2.06-.94-2.06-.94-.94-2.06-.94 2.06-2.06.94zm-11 1L8.5 8.5l.94-2.06 2.06-.94-2.06-.94L8.5 2.5l-.94 2.06-2.06.94zm10 10l.94 2.06.94-2.06 2.06-.94-2.06-.94-.94-2.06-.94 2.06-2.06.94z\"/><path d=\"M17.41 7.96l-1.37-1.37c-.4-.4-.92-.59-1.43-.59-.52 0-1.04.2-1.43.59L10.3 9.45l-7.72 7.72c-.78.78-.78 2.05 0 2.83L4 21.41c.39.39.9.59 1.41.59.51 0 1.02-.2 1.41-.59l7.78-7.78 2.81-2.81c.8-.78.8-2.07 0-2.86zM5.41 20L4 18.59l7.72-7.72 1.47 1.35L5.41 20z\"/>\n",
              "  </svg>\n",
              "      </button>\n",
              "      \n",
              "  <style>\n",
              "    .colab-df-container {\n",
              "      display:flex;\n",
              "      flex-wrap:wrap;\n",
              "      gap: 12px;\n",
              "    }\n",
              "\n",
              "    .colab-df-convert {\n",
              "      background-color: #E8F0FE;\n",
              "      border: none;\n",
              "      border-radius: 50%;\n",
              "      cursor: pointer;\n",
              "      display: none;\n",
              "      fill: #1967D2;\n",
              "      height: 32px;\n",
              "      padding: 0 0 0 0;\n",
              "      width: 32px;\n",
              "    }\n",
              "\n",
              "    .colab-df-convert:hover {\n",
              "      background-color: #E2EBFA;\n",
              "      box-shadow: 0px 1px 2px rgba(60, 64, 67, 0.3), 0px 1px 3px 1px rgba(60, 64, 67, 0.15);\n",
              "      fill: #174EA6;\n",
              "    }\n",
              "\n",
              "    [theme=dark] .colab-df-convert {\n",
              "      background-color: #3B4455;\n",
              "      fill: #D2E3FC;\n",
              "    }\n",
              "\n",
              "    [theme=dark] .colab-df-convert:hover {\n",
              "      background-color: #434B5C;\n",
              "      box-shadow: 0px 1px 3px 1px rgba(0, 0, 0, 0.15);\n",
              "      filter: drop-shadow(0px 1px 2px rgba(0, 0, 0, 0.3));\n",
              "      fill: #FFFFFF;\n",
              "    }\n",
              "  </style>\n",
              "\n",
              "      <script>\n",
              "        const buttonEl =\n",
              "          document.querySelector('#df-07917476-0f5d-4094-80da-f109e408f2a4 button.colab-df-convert');\n",
              "        buttonEl.style.display =\n",
              "          google.colab.kernel.accessAllowed ? 'block' : 'none';\n",
              "\n",
              "        async function convertToInteractive(key) {\n",
              "          const element = document.querySelector('#df-07917476-0f5d-4094-80da-f109e408f2a4');\n",
              "          const dataTable =\n",
              "            await google.colab.kernel.invokeFunction('convertToInteractive',\n",
              "                                                     [key], {});\n",
              "          if (!dataTable) return;\n",
              "\n",
              "          const docLinkHtml = 'Like what you see? Visit the ' +\n",
              "            '<a target=\"_blank\" href=https://colab.research.google.com/notebooks/data_table.ipynb>data table notebook</a>'\n",
              "            + ' to learn more about interactive tables.';\n",
              "          element.innerHTML = '';\n",
              "          dataTable['output_type'] = 'display_data';\n",
              "          await google.colab.output.renderOutput(dataTable, element);\n",
              "          const docLink = document.createElement('div');\n",
              "          docLink.innerHTML = docLinkHtml;\n",
              "          element.appendChild(docLink);\n",
              "        }\n",
              "      </script>\n",
              "    </div>\n",
              "  </div>\n",
              "  "
            ],
            "text/plain": [
              "       Total O/S Loan Term GENDER  ... Month_of_date       Age                 Dpd\n",
              "0       178630.0  10 Years   MALE  ...        3 to 6  30 to 40             On Time\n",
              "1       376445.0  10 Years   MALE  ...        6 to 9  50 to 60             On Time\n",
              "2       253984.0   7 Years   MALE  ...        1 to 3  50 to 60             On Time\n",
              "3       779620.0   9 Years   MALE  ...       9 to 12  30 to 40      within 1 month\n",
              "4       103377.0   5 Years   MALE  ...        6 to 9  40 to 50             On Time\n",
              "...          ...       ...    ...  ...           ...       ...                 ...\n",
              "38680        8.0   9 Years   MALE  ...       9 to 12  40 to 50      within 1 month\n",
              "38681        5.0   8 Years   MALE  ...        3 to 6  40 to 50      within 1 month\n",
              "38682        5.0   9 Years   MALE  ...        6 to 9  40 to 50      within 1 month\n",
              "38683        2.0   8 Years   MALE  ...        1 to 3  30 to 40  more than 4 months\n",
              "38684        1.0   9 Years   MALE  ...        1 to 3  30 to 40  more than 4 months\n",
              "\n",
              "[38685 rows x 7 columns]"
            ]
          },
          "metadata": {},
          "execution_count": 50
        }
      ],
      "source": [
        "data"
      ]
    },
    {
      "cell_type": "code",
      "execution_count": null,
      "metadata": {
        "colab": {
          "base_uri": "https://localhost:8080/"
        },
        "id": "VuttdNxNDAJd",
        "outputId": "5afedaeb-de2e-47c1-d95d-d1581cdc82c8"
      },
      "outputs": [
        {
          "output_type": "execute_result",
          "data": {
            "text/plain": [
              "Total O/S             0\n",
              "Loan Term             0\n",
              "GENDER                8\n",
              "Customer Segment     19\n",
              "Month_of_date        84\n",
              "Age                 145\n",
              "Dpd                   0\n",
              "dtype: int64"
            ]
          },
          "metadata": {},
          "execution_count": 51
        }
      ],
      "source": [
        "data.isna().sum()"
      ]
    },
    {
      "cell_type": "code",
      "execution_count": null,
      "metadata": {
        "colab": {
          "base_uri": "https://localhost:8080/"
        },
        "id": "cqlq1wkNDfJe",
        "outputId": "dcf95f65-84f3-481a-d7a1-6d725bf8dcf0"
      },
      "outputs": [
        {
          "output_type": "execute_result",
          "data": {
            "text/plain": [
              "1075"
            ]
          },
          "metadata": {},
          "execution_count": 52
        }
      ],
      "source": [
        "data.duplicated().sum()"
      ]
    },
    {
      "cell_type": "code",
      "execution_count": null,
      "metadata": {
        "id": "kJHJcUmKDH_R"
      },
      "outputs": [],
      "source": [
        "data.dropna(inplace=True)"
      ]
    },
    {
      "cell_type": "code",
      "execution_count": null,
      "metadata": {
        "id": "aZLH9LdtDeJC"
      },
      "outputs": [],
      "source": [
        "data.drop_duplicates(inplace=True)"
      ]
    },
    {
      "cell_type": "code",
      "execution_count": null,
      "metadata": {
        "colab": {
          "base_uri": "https://localhost:8080/"
        },
        "id": "5h949pcCCzsT",
        "outputId": "0bdd6cf2-83f8-4c92-cda0-895bed48783b"
      },
      "outputs": [
        {
          "output_type": "stream",
          "name": "stdout",
          "text": [
            "<class 'pandas.core.frame.DataFrame'>\n",
            "Int64Index: 37468 entries, 0 to 38684\n",
            "Data columns (total 7 columns):\n",
            " #   Column            Non-Null Count  Dtype   \n",
            "---  ------            --------------  -----   \n",
            " 0   Total O/S         37468 non-null  float64 \n",
            " 1   Loan Term         37468 non-null  object  \n",
            " 2   GENDER            37468 non-null  object  \n",
            " 3   Customer Segment  37468 non-null  object  \n",
            " 4   Month_of_date     37468 non-null  category\n",
            " 5   Age               37468 non-null  category\n",
            " 6   Dpd               37468 non-null  category\n",
            "dtypes: category(3), float64(1), object(3)\n",
            "memory usage: 1.5+ MB\n"
          ]
        }
      ],
      "source": [
        "data.info()"
      ]
    },
    {
      "cell_type": "code",
      "execution_count": null,
      "metadata": {
        "colab": {
          "base_uri": "https://localhost:8080/",
          "height": 327
        },
        "id": "HD69sACN6siW",
        "outputId": "a99550f8-9bf3-4811-ebd5-cc1cf048059c"
      },
      "outputs": [
        {
          "output_type": "execute_result",
          "data": {
            "text/plain": [
              "[Text(0.5, 0, 'loan value')]"
            ]
          },
          "metadata": {},
          "execution_count": 56
        },
        {
          "output_type": "display_data",
          "data": {
            "image/png": "[encoded data removed]",
            "text/plain": [
              "<Figure size 432x288 with 1 Axes>"
            ]
          },
          "metadata": {
            "needs_background": "light"
          }
        }
      ],
      "source": [
        "ax=sns.histplot(data,x='Total O/S')\n",
        "ax.set_title(\"Total loan \\n\")\n",
        "ax.set(xlabel=\"loan value\")"
      ]
    },
    {
      "cell_type": "code",
      "execution_count": null,
      "metadata": {
        "colab": {
          "base_uri": "https://localhost:8080/"
        },
        "id": "JQq-hhj37UVI",
        "outputId": "8d730b8a-366e-4d65-e479-eb8cc7d6950e"
      },
      "outputs": [
        {
          "output_type": "execute_result",
          "data": {
            "text/plain": [
              "count    3.746800e+04\n",
              "mean     1.793576e+05\n",
              "std      3.890671e+05\n",
              "min      0.000000e+00\n",
              "25%      3.596950e+04\n",
              "50%      9.047750e+04\n",
              "75%      1.842212e+05\n",
              "max      2.652674e+07\n",
              "Name: Total O/S, dtype: float64"
            ]
          },
          "metadata": {},
          "execution_count": 57
        }
      ],
      "source": [
        "data['Total O/S'].describe()"
      ]
    },
    {
      "cell_type": "code",
      "execution_count": null,
      "metadata": {
        "colab": {
          "base_uri": "https://localhost:8080/"
        },
        "id": "zynhaEYQ7dRv",
        "outputId": "797c172e-6d5c-4afd-df5e-ce5788725be8"
      },
      "outputs": [
        {
          "output_type": "stream",
          "name": "stdout",
          "text": [
            "['Less than 184000', 'Less than 27000000', 'Less than 36000', 'Less than 90000']\n",
            "Categories (4, object): ['Less than 36000' < 'Less than 90000' < 'Less than 184000' <\n",
            "                         'Less than 27000000']\n"
          ]
        }
      ],
      "source": [
        "data['Total O_S'] = pd.cut(x=data['Total O/S'], bins=[-1, 36000, 90000,184000,27000000],\n",
        "                    labels=['Less than 36000', 'Less than 90000', 'Less than 184000','Less than 27000000'])\n",
        " \n",
        "# We can check the frequency of each bin\n",
        "print(data['Total O_S'].unique())"
      ]
    },
    {
      "cell_type": "code",
      "execution_count": null,
      "metadata": {
        "id": "rWXC1Wph9L7T"
      },
      "outputs": [],
      "source": [
        "del data['Total O/S']"
      ]
    },
    {
      "cell_type": "code",
      "execution_count": null,
      "metadata": {
        "id": "LRaQ4wS1GWFv"
      },
      "outputs": [],
      "source": [
        "#categorical = ['Loan Term','GENDER','Customer Segment','Month_of_date','Age']\n",
        "categorical = ['Loan Term','GENDER','Customer Segment','Month_of_date','Age','Total O_S']\n",
        "\n",
        "X = data[categorical]\n",
        "#X = pd.concat((data[categorical], data['Total O/S']), axis=1) ## Just sort them, no need for encoding\n",
        "y = data['Dpd']\n",
        "\n",
        "X_train , X_test , y_train , y_test = train_test_split(X,y,test_size = 0.2 , random_state = 75, shuffle=True)"
      ]
    },
    {
      "cell_type": "code",
      "execution_count": null,
      "metadata": {
        "colab": {
          "base_uri": "https://localhost:8080/"
        },
        "id": "840FPRaXIi0o",
        "outputId": "ca49702d-33c0-42ff-ddb8-52ae0f7dc36a"
      },
      "outputs": [
        {
          "output_type": "stream",
          "name": "stdout",
          "text": [
            "(29974, 24)\n",
            "(7494, 24)\n"
          ]
        }
      ],
      "source": [
        "X_train = pd.get_dummies(X_train, columns = categorical, drop_first=True)\n",
        "X_test = pd.get_dummies(X_test, columns = categorical, drop_first=True)\n",
        "y_train = pd.get_dummies(y_train, columns = ['Dpd'], drop_first=True)\n",
        "y_test = pd.get_dummies(y_test, columns = ['Dpd'], drop_first=True)\n",
        "\n",
        "print(X_train.shape)\n",
        "print(X_test.shape)"
      ]
    },
    {
      "cell_type": "code",
      "execution_count": null,
      "metadata": {
        "colab": {
          "base_uri": "https://localhost:8080/"
        },
        "id": "A0mqBdZoJPbe",
        "outputId": "1d66dc51-301a-48c1-ab0a-127122da8f42"
      },
      "outputs": [
        {
          "output_type": "stream",
          "name": "stdout",
          "text": [
            "Accuracy: 0.7710168134507606\n"
          ]
        }
      ],
      "source": [
        "clf=RandomForestClassifier(n_estimators = 100, random_state = 43)\n",
        "#Train the model using the training sets y_pred=clf.predict(X_test)\n",
        "clf.fit(X_train,y_train)\n",
        "y_pred=clf.predict(X_test)\n",
        "print(\"Accuracy:\",metrics.accuracy_score(y_test, y_pred))"
      ]
    },
    {
      "cell_type": "code",
      "execution_count": null,
      "metadata": {
        "colab": {
          "base_uri": "https://localhost:8080/"
        },
        "id": "KwJjxYjrJUGZ",
        "outputId": "52797200-d90b-4a1f-9b64-daca1333269e"
      },
      "outputs": [
        {
          "output_type": "execute_result",
          "data": {
            "text/plain": [
              "GridSearchCV(estimator=RandomForestClassifier(),\n",
              "             param_grid={'max_depth': array([4, 5, 6, 7, 8, 9])})"
            ]
          },
          "metadata": {},
          "execution_count": 63
        }
      ],
      "source": [
        "from sklearn.model_selection import GridSearchCV\n",
        "params={'max_depth': np.arange(4, 10,1)}\n",
        "rf_c = RandomForestClassifier()\n",
        "g_rf_c= GridSearchCV(rf_c, params)\n",
        "g_rf_c.fit(X_train, y_train)"
      ]
    },
    {
      "cell_type": "code",
      "execution_count": null,
      "metadata": {
        "colab": {
          "base_uri": "https://localhost:8080/"
        },
        "id": "R1okk8yROBIU",
        "outputId": "25f6bc33-a533-49b7-c1c9-658bbea72c50"
      },
      "outputs": [
        {
          "output_type": "execute_result",
          "data": {
            "text/plain": [
              "0.7859144591979715"
            ]
          },
          "metadata": {},
          "execution_count": 64
        }
      ],
      "source": [
        "g_rf_c.score(X_train, y_train)"
      ]
    },
    {
      "cell_type": "code",
      "execution_count": null,
      "metadata": {
        "colab": {
          "base_uri": "https://localhost:8080/"
        },
        "id": "45HKRoyoOD-W",
        "outputId": "52d0ddd6-aed5-4eb1-8f78-b9636054b4ee"
      },
      "outputs": [
        {
          "output_type": "execute_result",
          "data": {
            "text/plain": [
              "0.7779556978916466"
            ]
          },
          "metadata": {},
          "execution_count": 65
        }
      ],
      "source": [
        "g_rf_c.score(X_test, y_test)"
      ]
    },
    {
      "cell_type": "code",
      "execution_count": null,
      "metadata": {
        "colab": {
          "base_uri": "https://localhost:8080/"
        },
        "id": "hcUaspUA9bFD",
        "outputId": "9ef0510f-de35-4490-b979-557bb8138f7f"
      },
      "outputs": [
        {
          "output_type": "stream",
          "name": "stdout",
          "text": [
            "Average Score for KNN = 77.16\n",
            "Average Score for DTrees = 77.75\n"
          ]
        }
      ],
      "source": [
        "#KNN\n",
        "clf = KNeighborsClassifier()\n",
        "scores = cross_val_score(clf, X_train, y_train, cv=5)\n",
        "print('Average Score for KNN = {}'.format(np.round(scores.mean()*100,2)))\n",
        "\n",
        "#DTrees\n",
        "clf = tree.DecisionTreeClassifier()\n",
        "scores = cross_val_score(clf, X_train, y_train, cv=5)\n",
        "print('Average Score for DTrees = {}'.format(np.round(scores.mean()*100,2)))"
      ]
    },
    {
      "cell_type": "code",
      "execution_count": null,
      "metadata": {
        "colab": {
          "base_uri": "https://localhost:8080/"
        },
        "id": "3Kn2LEmo-VWh",
        "outputId": "07d25230-5cf2-42f0-e409-cdfe56c938ab"
      },
      "outputs": [
        {
          "output_type": "stream",
          "name": "stdout",
          "text": [
            "[1 2 3] [0]\n",
            "[0 2 3] [1]\n",
            "[0 1 3] [2]\n",
            "[0 1 2] [3]\n"
          ]
        }
      ],
      "source": [
        "X1 = [1, 2, 3, 4]\n",
        "loo = LeaveOneOut()\n",
        "for train, test in loo.split(X1):\n",
        "    print(\"%s %s\" % (train, test))"
      ]
    },
    {
      "cell_type": "code",
      "execution_count": null,
      "metadata": {
        "id": "TcHWM3vg9_aA"
      },
      "outputs": [],
      "source": [
        "#To uncomment\n",
        "\n",
        "clf = KNeighborsClassifier()\n",
        "scores = cross_val_score(clf, X_train, y_train, cv=loo) #notice the difference\n",
        "print('Average Score for KNN = {}'.format(np.round(scores.mean()*100,2)))"
      ]
    },
    {
      "cell_type": "code",
      "execution_count": null,
      "metadata": {
        "id": "FEVayiUjsHs-"
      },
      "outputs": [],
      "source": [
        "X_train"
      ]
    },
    {
      "cell_type": "code",
      "execution_count": null,
      "metadata": {
        "id": "kwW-Wlo3sHp_"
      },
      "outputs": [],
      "source": [
        "#X_Y_train = X_train +y_train\n",
        "#X_Y_test = X_test +y_test\n",
        "Xs=pd.concat((X_train, X_test))"
      ]
    },
    {
      "cell_type": "code",
      "execution_count": null,
      "metadata": {
        "id": "PxeFWyajsHnz"
      },
      "outputs": [],
      "source": [
        "from sklearn.decomposition import PCA\n",
        "pca = PCA(n_components=9)\n",
        "pca.fit(Xs)"
      ]
    },
    {
      "cell_type": "code",
      "execution_count": null,
      "metadata": {
        "id": "o9VzDK00oBTP"
      },
      "outputs": [],
      "source": [
        "print(pca.components_)"
      ]
    },
    {
      "cell_type": "code",
      "execution_count": null,
      "metadata": {
        "id": "WNWBJ8nfoEu8"
      },
      "outputs": [],
      "source": [
        "print(pca.explained_variance_)"
      ]
    },
    {
      "cell_type": "code",
      "execution_count": null,
      "metadata": {
        "id": "9K5N2feOwQyI"
      },
      "outputs": [],
      "source": [
        "pca = PCA(n_components=7)\n",
        "pca.fit(Xs)\n",
        "projected_Train = pca.transform(Xs)\n",
        "print(\"original shape:   \", Xs.shape)\n",
        "print(\"transformed shape:\", projected_Train.shape)"
      ]
    },
    {
      "cell_type": "code",
      "execution_count": null,
      "metadata": {
        "id": "a4yPFuXltGaY"
      },
      "outputs": [],
      "source": [
        "from sklearn.cluster import KMeans\n",
        "model = KMeans(3) \n",
        "model.fit(projected_Train)\n",
        "print(model.cluster_centers_)"
      ]
    },
    {
      "cell_type": "code",
      "execution_count": null,
      "metadata": {
        "id": "I9ALugyGtSZ9"
      },
      "outputs": [],
      "source": [
        "plt.scatter(projected_Train[:,0],projected_Train[:,1], c=model.labels_);\n",
        "plt.scatter(model.cluster_centers_[:,0], model.cluster_centers_[:,1], s=100, color=\"red\"); # Show the centres"
      ]
    },
    {
      "cell_type": "markdown",
      "source": [
        "# The data Plots"
      ],
      "metadata": {
        "id": "lBkfpxYxhyw4"
      }
    },
    {
      "cell_type": "code",
      "execution_count": null,
      "metadata": {
        "id": "G_xmsy5TtkMt"
      },
      "outputs": [],
      "source": [
        "# from sklearn.metrics import accuracy_score\n",
        "# acc=accuracy_score(y_train, model.labels_)\n",
        "# print(\"Accuracy score is\", acc)"
      ]
    },
    {
      "cell_type": "code",
      "execution_count": null,
      "metadata": {
        "id": "vjf4TyLYQEoU"
      },
      "outputs": [],
      "source": [
        "data"
      ]
    },
    {
      "cell_type": "code",
      "execution_count": null,
      "metadata": {
        "id": "s1fSbxh_RefV"
      },
      "outputs": [],
      "source": [
        "data['Customer Segment'].value_counts().sort_values(ascending = False)"
      ]
    },
    {
      "cell_type": "code",
      "execution_count": null,
      "metadata": {
        "id": "H-lbHaPERVL-"
      },
      "outputs": [],
      "source": [
        "sns.countplot(x='Customer Segment', data=data, palette='Set2')\n",
        "plt.show()"
      ]
    },
    {
      "cell_type": "code",
      "execution_count": null,
      "metadata": {
        "id": "jj_Nop2ES5fR"
      },
      "outputs": [],
      "source": [
        "data['GENDER'].value_counts().sort_values(ascending = False)"
      ]
    },
    {
      "cell_type": "code",
      "execution_count": null,
      "metadata": {
        "id": "aqAhgYaHS-rF"
      },
      "outputs": [],
      "source": [
        "sns.countplot(x='GENDER', data=data, palette='Set2')\n",
        "plt.show()"
      ]
    },
    {
      "cell_type": "code",
      "execution_count": null,
      "metadata": {
        "id": "aA-jf-RdTYdh"
      },
      "outputs": [],
      "source": [
        "data['Dpd'].value_counts().sort_values(ascending = False)"
      ]
    },
    {
      "cell_type": "code",
      "execution_count": null,
      "metadata": {
        "id": "BbknjG9-VJaf"
      },
      "outputs": [],
      "source": [
        "sns.countplot(x='Dpd', data=data, palette='Set2')\n",
        "plt.show()"
      ]
    },
    {
      "cell_type": "code",
      "execution_count": null,
      "metadata": {
        "id": "KyrH_SkNWdhV"
      },
      "outputs": [],
      "source": [
        "data['Total O_S'].value_counts().sort_values(ascending = False)"
      ]
    },
    {
      "cell_type": "code",
      "execution_count": null,
      "metadata": {
        "id": "lkpcQ23dXhgM"
      },
      "outputs": [],
      "source": [
        "sns.countplot(x='Total O_S', data=data, palette='Set2')\n",
        "plt.show()"
      ]
    },
    {
      "cell_type": "code",
      "execution_count": null,
      "metadata": {
        "id": "BYONdRKOXwzX"
      },
      "outputs": [],
      "source": [
        "data['Loan Term'].value_counts().sort_values(ascending = False)"
      ]
    },
    {
      "cell_type": "code",
      "execution_count": null,
      "metadata": {
        "id": "uKrIE3thYQgU"
      },
      "outputs": [],
      "source": [
        "sns.countplot(x='Loan Term', data=data, palette='Set2')\n",
        "plt.show()"
      ]
    },
    {
      "cell_type": "code",
      "execution_count": null,
      "metadata": {
        "id": "uv6H3jDQYp9W"
      },
      "outputs": [],
      "source": [
        "data['Month_of_date'].value_counts().sort_values(ascending = False)"
      ]
    },
    {
      "cell_type": "code",
      "execution_count": null,
      "metadata": {
        "id": "h7aRBjNvZDBq"
      },
      "outputs": [],
      "source": [
        "sns.countplot(x='Month_of_date', data=data, palette='Set2')\n",
        "plt.show()"
      ]
    },
    {
      "cell_type": "code",
      "execution_count": null,
      "metadata": {
        "id": "ayU2oCOPZ3BN"
      },
      "outputs": [],
      "source": [
        "data['Month_of_date'].value_counts().sort_values(ascending = False)"
      ]
    },
    {
      "cell_type": "code",
      "execution_count": null,
      "metadata": {
        "id": "4KGmf92KZ8pN"
      },
      "outputs": [],
      "source": [
        "sns.countplot(x='Age', data=data, palette='Set2')\n",
        "plt.show()"
      ]
    },
    {
      "cell_type": "code",
      "source": [
        "px.scatter(data, x='Month_of_date', y='Customer Segment',\n",
        "            title=\"Loan Term vs Age\",\n",
        "                   labels={\n",
        "                     \"G3\": \"Grade for final exam\",\n",
        "                 },)"
      ],
      "metadata": {
        "id": "r9VtmS196MJT"
      },
      "execution_count": null,
      "outputs": []
    },
    {
      "cell_type": "code",
      "source": [
        "data"
      ],
      "metadata": {
        "id": "V8MyIii4E52E"
      },
      "execution_count": null,
      "outputs": []
    },
    {
      "cell_type": "code",
      "source": [
        "df_disc_tmp = data.copy(deep=True)\n",
        "df_disc_tmp['Dpd'] = df_disc_tmp['Dpd'].apply(lambda x: 1 if x ==\"On Time\" else 0)\n",
        "df_disc_tmp['returning loan']=df_disc_tmp.Dpd"
      ],
      "metadata": {
        "id": "GokbvKOx9Pwg"
      },
      "execution_count": null,
      "outputs": []
    },
    {
      "cell_type": "code",
      "source": [
        "ax=sns.histplot(df_disc_tmp, x='Loan Term', hue='returning loan')\n",
        "ax.set_title('Total vs returning loan in more than 4 months')"
      ],
      "metadata": {
        "id": "gubf5YZv66w8"
      },
      "execution_count": null,
      "outputs": []
    },
    {
      "cell_type": "code",
      "source": [
        "details = data.apply(lambda x : True\n",
        "            if (x['Loan Term'] == \"1 Year\" and x['Dpd'] == \"On Time\") else False, axis = 1)\n",
        "  \n",
        "            #Salaried\n",
        "            #Self Employed & Professional\n",
        "# Count number of True in the series\n",
        "num_rows = len(details[details == True].index)\n",
        "  \n",
        "print('Number of Rows in dataframe in which College is Geu : ',\n",
        "      num_rows )"
      ],
      "metadata": {
        "id": "QtUTOtsQBCK5"
      },
      "execution_count": null,
      "outputs": []
    }
  ],
  "metadata": {
    "colab": {
      "collapsed_sections": [],
      "name": "Final Projecttask2.ipynb",
      "provenance": []
    },
    "kernelspec": {
      "display_name": "Python 3",
      "name": "python3"
    },
    "language_info": {
      "name": "python"
    }
  },
  "nbformat": 4,
  "nbformat_minor": 0
}